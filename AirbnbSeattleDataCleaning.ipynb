{
  "cells": [
    {
      "cell_type": "markdown",
      "metadata": {
        "id": "view-in-github",
        "colab_type": "text"
      },
      "source": [
        "<a href=\"https://colab.research.google.com/github/Milena-DataScientist/AirbnbSeattle/blob/main/AirbnbSeattleDataCleaning.ipynb\" target=\"_parent\"><img src=\"https://colab.research.google.com/assets/colab-badge.svg\" alt=\"Open In Colab\"/></a>"
      ]
    },
    {
      "cell_type": "code",
      "execution_count": null,
      "metadata": {
        "id": "44KYAaYwH3tW"
      },
      "outputs": [],
      "source": [
        "import pandas as pd"
      ]
    },
    {
      "cell_type": "code",
      "execution_count": null,
      "metadata": {
        "id": "LMBD3clqH3tZ"
      },
      "outputs": [],
      "source": [
        "listings = pd.read_csv('listings.csv')"
      ]
    },
    {
      "cell_type": "code",
      "execution_count": null,
      "metadata": {
        "id": "EmhzMCe7H3tZ",
        "outputId": "2fa06890-2838-4e44-ec3f-378290975cc6"
      },
      "outputs": [
        {
          "data": {
            "text/plain": [
              "Index(['id', 'listing_url', 'name', 'summary', 'space', 'description',\n",
              "       'experiences_offered', 'neighborhood_overview', 'notes', 'transit',\n",
              "       'thumbnail_url', 'medium_url', 'picture_url', 'xl_picture_url',\n",
              "       'host_id', 'host_url', 'host_name', 'host_since', 'host_location',\n",
              "       'host_about', 'host_response_time', 'host_response_rate',\n",
              "       'host_acceptance_rate', 'host_is_superhost', 'host_thumbnail_url',\n",
              "       'host_picture_url', 'host_neighbourhood', 'host_listings_count',\n",
              "       'host_total_listings_count', 'host_verifications',\n",
              "       'host_has_profile_pic', 'host_identity_verified', 'street',\n",
              "       'neighbourhood', 'neighbourhood_cleansed',\n",
              "       'neighbourhood_group_cleansed', 'city', 'state', 'zipcode', 'market',\n",
              "       'smart_location', 'country_code', 'country', 'latitude', 'longitude',\n",
              "       'is_location_exact', 'property_type', 'room_type', 'accommodates',\n",
              "       'bathrooms', 'bedrooms', 'beds', 'bed_type', 'amenities', 'square_feet',\n",
              "       'price', 'weekly_price', 'monthly_price', 'security_deposit',\n",
              "       'cleaning_fee', 'guests_included', 'extra_people', 'minimum_nights',\n",
              "       'maximum_nights', 'calendar_updated', 'has_availability',\n",
              "       'availability_30', 'availability_60', 'availability_90',\n",
              "       'availability_365', 'calendar_last_scraped', 'number_of_reviews',\n",
              "       'first_review', 'last_review', 'review_scores_rating',\n",
              "       'review_scores_accuracy', 'review_scores_cleanliness',\n",
              "       'review_scores_checkin', 'review_scores_communication',\n",
              "       'review_scores_location', 'review_scores_value', 'requires_license',\n",
              "       'license', 'jurisdiction_names', 'instant_bookable',\n",
              "       'cancellation_policy', 'require_guest_profile_picture',\n",
              "       'require_guest_phone_verification', 'calculated_host_listings_count',\n",
              "       'reviews_per_month'],\n",
              "      dtype='object')"
            ]
          },
          "execution_count": 3,
          "metadata": {},
          "output_type": "execute_result"
        }
      ],
      "source": [
        "listings.columns"
      ]
    },
    {
      "cell_type": "code",
      "execution_count": null,
      "metadata": {
        "id": "UuaJhVaeH3ta",
        "outputId": "3d582d5e-3166-4cf7-cd2b-509c8886096a"
      },
      "outputs": [
        {
          "data": {
            "text/html": [
              "<div>\n",
              "<style scoped>\n",
              "    .dataframe tbody tr th:only-of-type {\n",
              "        vertical-align: middle;\n",
              "    }\n",
              "\n",
              "    .dataframe tbody tr th {\n",
              "        vertical-align: top;\n",
              "    }\n",
              "\n",
              "    .dataframe thead th {\n",
              "        text-align: right;\n",
              "    }\n",
              "</style>\n",
              "<table border=\"1\" class=\"dataframe\">\n",
              "  <thead>\n",
              "    <tr style=\"text-align: right;\">\n",
              "      <th></th>\n",
              "      <th>id</th>\n",
              "      <th>listing_url</th>\n",
              "      <th>name</th>\n",
              "      <th>summary</th>\n",
              "      <th>space</th>\n",
              "      <th>description</th>\n",
              "      <th>experiences_offered</th>\n",
              "      <th>neighborhood_overview</th>\n",
              "      <th>notes</th>\n",
              "      <th>transit</th>\n",
              "      <th>...</th>\n",
              "      <th>review_scores_value</th>\n",
              "      <th>requires_license</th>\n",
              "      <th>license</th>\n",
              "      <th>jurisdiction_names</th>\n",
              "      <th>instant_bookable</th>\n",
              "      <th>cancellation_policy</th>\n",
              "      <th>require_guest_profile_picture</th>\n",
              "      <th>require_guest_phone_verification</th>\n",
              "      <th>calculated_host_listings_count</th>\n",
              "      <th>reviews_per_month</th>\n",
              "    </tr>\n",
              "  </thead>\n",
              "  <tbody>\n",
              "    <tr>\n",
              "      <th>0</th>\n",
              "      <td>241032</td>\n",
              "      <td>https://www.airbnb.com/rooms/241032</td>\n",
              "      <td>Stylish Queen Anne Apartment</td>\n",
              "      <td>NaN</td>\n",
              "      <td>Make your self at home in this charming one-be...</td>\n",
              "      <td>Make your self at home in this charming one-be...</td>\n",
              "      <td>none</td>\n",
              "      <td>NaN</td>\n",
              "      <td>NaN</td>\n",
              "      <td>NaN</td>\n",
              "      <td>...</td>\n",
              "      <td>10.0</td>\n",
              "      <td>f</td>\n",
              "      <td>NaN</td>\n",
              "      <td>WASHINGTON</td>\n",
              "      <td>f</td>\n",
              "      <td>moderate</td>\n",
              "      <td>f</td>\n",
              "      <td>f</td>\n",
              "      <td>2</td>\n",
              "      <td>4.07</td>\n",
              "    </tr>\n",
              "  </tbody>\n",
              "</table>\n",
              "<p>1 rows × 90 columns</p>\n",
              "</div>"
            ],
            "text/plain": [
              "       id                          listing_url                          name  \\\n",
              "0  241032  https://www.airbnb.com/rooms/241032  Stylish Queen Anne Apartment   \n",
              "\n",
              "  summary                                              space  \\\n",
              "0     NaN  Make your self at home in this charming one-be...   \n",
              "\n",
              "                                         description experiences_offered  \\\n",
              "0  Make your self at home in this charming one-be...                none   \n",
              "\n",
              "  neighborhood_overview notes transit  ... review_scores_value  \\\n",
              "0                   NaN   NaN     NaN  ...                10.0   \n",
              "\n",
              "  requires_license license jurisdiction_names  instant_bookable  \\\n",
              "0                f     NaN         WASHINGTON                 f   \n",
              "\n",
              "  cancellation_policy require_guest_profile_picture  \\\n",
              "0            moderate                             f   \n",
              "\n",
              "  require_guest_phone_verification calculated_host_listings_count  \\\n",
              "0                                f                              2   \n",
              "\n",
              "  reviews_per_month  \n",
              "0              4.07  \n",
              "\n",
              "[1 rows x 90 columns]"
            ]
          },
          "execution_count": 4,
          "metadata": {},
          "output_type": "execute_result"
        }
      ],
      "source": [
        "listings.head(1)"
      ]
    },
    {
      "cell_type": "markdown",
      "metadata": {
        "id": "S3NxiMaxH3ta"
      },
      "source": [
        "### Dropping Empty Columns and Composite Columns :"
      ]
    },
    {
      "cell_type": "code",
      "execution_count": null,
      "metadata": {
        "id": "mjS7R8vtH3tb",
        "outputId": "8ecc1f45-1b6a-449b-d94e-c43f8d5997e2"
      },
      "outputs": [
        {
          "data": {
            "text/plain": [
              "array(['none'], dtype=object)"
            ]
          },
          "execution_count": 5,
          "metadata": {},
          "output_type": "execute_result"
        }
      ],
      "source": [
        "listings.experiences_offered.unique()#To check Unique Values"
      ]
    },
    {
      "cell_type": "code",
      "execution_count": null,
      "metadata": {
        "id": "K4WwOtG8H3tc"
      },
      "outputs": [],
      "source": [
        "listings.drop('experiences_offered',1,inplace=True) #Drop the columns"
      ]
    },
    {
      "cell_type": "code",
      "execution_count": null,
      "metadata": {
        "id": "QSMRR__qH3tc",
        "outputId": "cf2c3a15-f7f0-483a-a36e-2f126259b5c7"
      },
      "outputs": [
        {
          "data": {
            "text/plain": [
              "array(['Seattle, WA', 'Ballard, Seattle, WA', 'West Seattle, WA',\n",
              "       'Seattle , WA', '西雅图, WA', 'Phinney Ridge Seattle, WA',\n",
              "       'seattle, wa'], dtype=object)"
            ]
          },
          "execution_count": 7,
          "metadata": {},
          "output_type": "execute_result"
        }
      ],
      "source": [
        "listings.smart_location.unique()"
      ]
    },
    {
      "cell_type": "code",
      "execution_count": null,
      "metadata": {
        "id": "J8hF2K4vH3td"
      },
      "outputs": [],
      "source": [
        "listings.drop('smart_location',1,inplace=True)"
      ]
    },
    {
      "cell_type": "code",
      "execution_count": null,
      "metadata": {
        "id": "XQprWq-HH3td"
      },
      "outputs": [],
      "source": [
        "#listings = listings.drop('smart_location',1) #Alternatwe COmmand"
      ]
    },
    {
      "cell_type": "code",
      "execution_count": null,
      "metadata": {
        "id": "PRRgjbN5H3td",
        "outputId": "a383b577-8460-4f2c-b341-9d26185080f2"
      },
      "outputs": [
        {
          "data": {
            "text/plain": [
              "(3818, 88)"
            ]
          },
          "execution_count": 10,
          "metadata": {},
          "output_type": "execute_result"
        }
      ],
      "source": [
        "listings.shape #Rows,Columns"
      ]
    },
    {
      "cell_type": "code",
      "execution_count": null,
      "metadata": {
        "id": "z9XTLF3MH3te",
        "outputId": "10a29861-9c6c-46ab-e8a6-fb4663a08b3f"
      },
      "outputs": [
        {
          "data": {
            "text/plain": [
              "3818"
            ]
          },
          "execution_count": 11,
          "metadata": {},
          "output_type": "execute_result"
        }
      ],
      "source": [
        "len(listings.id.unique())"
      ]
    },
    {
      "cell_type": "code",
      "execution_count": null,
      "metadata": {
        "id": "eSYpOL_HH3te",
        "outputId": "64f3674d-5060-4b0c-ee03-2c4c133ff47b"
      },
      "outputs": [
        {
          "data": {
            "text/plain": [
              "0    Gilman Dr W, Seattle, WA 98119, United States\n",
              "Name: street, dtype: object"
            ]
          },
          "execution_count": 12,
          "metadata": {},
          "output_type": "execute_result"
        }
      ],
      "source": [
        "listings['street'].head(1)"
      ]
    },
    {
      "cell_type": "code",
      "execution_count": null,
      "metadata": {
        "id": "9K0RulnkH3te"
      },
      "outputs": [],
      "source": [
        "listings['street'] = listings['street'].map(lambda x: str(x)[:-34])#Eliminate String From the RHS"
      ]
    },
    {
      "cell_type": "code",
      "execution_count": null,
      "metadata": {
        "id": "C5eUG24sH3te",
        "outputId": "a424c73a-ecbd-4bbe-af03-05a3b5929cac"
      },
      "outputs": [
        {
          "data": {
            "text/plain": [
              "34"
            ]
          },
          "execution_count": 14,
          "metadata": {},
          "output_type": "execute_result"
        }
      ],
      "source": [
        "len(', Seattle, WA 98119, United States')"
      ]
    },
    {
      "cell_type": "code",
      "execution_count": null,
      "metadata": {
        "id": "P4nejyCpH3tf",
        "outputId": "6e770455-8148-4a12-8ffe-8e49d14fa99c"
      },
      "outputs": [
        {
          "data": {
            "text/plain": [
              "0        Gilman Dr W\n",
              "1    7th Avenue West\n",
              "2    West Lee Street\n",
              "3    8th Avenue West\n",
              "4         14th Ave W\n",
              "Name: street, dtype: object"
            ]
          },
          "execution_count": 15,
          "metadata": {},
          "output_type": "execute_result"
        }
      ],
      "source": [
        "listings['street'].head(5)"
      ]
    },
    {
      "cell_type": "code",
      "execution_count": null,
      "metadata": {
        "id": "M0XAP5k2H3tf",
        "outputId": "698fc6c4-f010-4599-dbd4-80acadda6f0c"
      },
      "outputs": [
        {
          "data": {
            "text/plain": [
              "array(['WASHINGTON'], dtype=object)"
            ]
          },
          "execution_count": 16,
          "metadata": {},
          "output_type": "execute_result"
        }
      ],
      "source": [
        "listings.jurisdiction_names.unique() #What to do with this?"
      ]
    },
    {
      "cell_type": "markdown",
      "metadata": {
        "id": "PupZaicDH3tf"
      },
      "source": [
        "### Modifying Tables with Values 't' and 'f' to 1 and 0"
      ]
    },
    {
      "cell_type": "markdown",
      "metadata": {
        "id": "4cFO6AsMH3tf"
      },
      "source": [
        "listings.requires_license.unique()"
      ]
    },
    {
      "cell_type": "markdown",
      "metadata": {
        "id": "w9pzS5GnH3tf"
      },
      "source": [
        "listings[\"requires_license\"]= listings[\"requires_license\"].replace('f', 0)\n",
        "listings[\"requires_license\"]= listings[\"requires_license\"].replace('t', 1) "
      ]
    },
    {
      "cell_type": "markdown",
      "metadata": {
        "id": "omp9cCxaH3tg"
      },
      "source": [
        "listings.instant_bookable.unique()"
      ]
    },
    {
      "cell_type": "markdown",
      "metadata": {
        "id": "F6mfHN6FH3tg"
      },
      "source": [
        "listings[\"instant_bookable\"]= listings[\"instant_bookable\"].replace('f', 0)\n",
        "listings[\"instant_bookable\"]= listings[\"instant_bookable\"].replace('t', 1) "
      ]
    },
    {
      "cell_type": "markdown",
      "metadata": {
        "id": "cKn8hk_iH3tg"
      },
      "source": [
        "listings.require_guest_profile_picture.unique()"
      ]
    },
    {
      "cell_type": "markdown",
      "metadata": {
        "id": "JrAdjvhDH3tg"
      },
      "source": [
        "listings[\"require_guest_profile_picture\"]= listings[\"require_guest_profile_picture\"].replace('f', 0)\n",
        "listings[\"require_guest_profile_picture\"]= listings[\"require_guest_profile_picture\"].replace('t', 1) "
      ]
    },
    {
      "cell_type": "markdown",
      "metadata": {
        "id": "hdZi4tdxH3tg"
      },
      "source": [
        "listings.require_guest_phone_verification.unique()"
      ]
    },
    {
      "cell_type": "markdown",
      "metadata": {
        "id": "5_s-_JykH3tg"
      },
      "source": [
        "listings[\"require_guest_phone_verification\"]= listings[\"require_guest_phone_verification\"].replace('f', 0)\n",
        "listings[\"require_guest_phone_verification\"]= listings[\"require_guest_phone_verification\"].replace('t', 1) "
      ]
    },
    {
      "cell_type": "markdown",
      "metadata": {
        "id": "Xmc-lDjuH3tg"
      },
      "source": [
        "listings.is_location_exact.unique()"
      ]
    },
    {
      "cell_type": "markdown",
      "metadata": {
        "id": "eTMG73p7H3th"
      },
      "source": [
        "listings[\"is_location_exact\"]= listings[\"is_location_exact\"].replace('f', 0)\n",
        "listings[\"is_location_exact\"]= listings[\"is_location_exact\"].replace('t', 1) "
      ]
    },
    {
      "cell_type": "markdown",
      "metadata": {
        "id": "E037WrVFH3th"
      },
      "source": [
        "### Creating a Host DataFrame :"
      ]
    },
    {
      "cell_type": "code",
      "execution_count": null,
      "metadata": {
        "id": "5lqXPcdvH3th"
      },
      "outputs": [],
      "source": [
        "host = listings[['host_id', 'host_url', 'host_name', 'host_since', 'host_location',\n",
        "       'host_about', 'host_response_time', 'host_response_rate',\n",
        "       'host_acceptance_rate', 'host_is_superhost', 'host_thumbnail_url',\n",
        "       'host_picture_url', 'host_neighbourhood', 'host_listings_count',\n",
        "       'host_total_listings_count', 'host_verifications',\n",
        "       'host_has_profile_pic', 'host_identity_verified']]"
      ]
    },
    {
      "cell_type": "code",
      "execution_count": null,
      "metadata": {
        "id": "Y7wFsseHH3th",
        "outputId": "9ef846e8-1caf-446d-e2d6-c6d4660081a9"
      },
      "outputs": [
        {
          "data": {
            "text/html": [
              "<div>\n",
              "<style scoped>\n",
              "    .dataframe tbody tr th:only-of-type {\n",
              "        vertical-align: middle;\n",
              "    }\n",
              "\n",
              "    .dataframe tbody tr th {\n",
              "        vertical-align: top;\n",
              "    }\n",
              "\n",
              "    .dataframe thead th {\n",
              "        text-align: right;\n",
              "    }\n",
              "</style>\n",
              "<table border=\"1\" class=\"dataframe\">\n",
              "  <thead>\n",
              "    <tr style=\"text-align: right;\">\n",
              "      <th></th>\n",
              "      <th>host_id</th>\n",
              "      <th>host_url</th>\n",
              "      <th>host_name</th>\n",
              "      <th>host_since</th>\n",
              "      <th>host_location</th>\n",
              "      <th>host_about</th>\n",
              "      <th>host_response_time</th>\n",
              "      <th>host_response_rate</th>\n",
              "      <th>host_acceptance_rate</th>\n",
              "      <th>host_is_superhost</th>\n",
              "      <th>host_thumbnail_url</th>\n",
              "      <th>host_picture_url</th>\n",
              "      <th>host_neighbourhood</th>\n",
              "      <th>host_listings_count</th>\n",
              "      <th>host_total_listings_count</th>\n",
              "      <th>host_verifications</th>\n",
              "      <th>host_has_profile_pic</th>\n",
              "      <th>host_identity_verified</th>\n",
              "    </tr>\n",
              "  </thead>\n",
              "  <tbody>\n",
              "    <tr>\n",
              "      <th>0</th>\n",
              "      <td>956883</td>\n",
              "      <td>https://www.airbnb.com/users/show/956883</td>\n",
              "      <td>Maija</td>\n",
              "      <td>11-08-2011</td>\n",
              "      <td>Seattle, Washington, United States</td>\n",
              "      <td>I am an artist, interior designer, and run a s...</td>\n",
              "      <td>within a few hours</td>\n",
              "      <td>96%</td>\n",
              "      <td>100%</td>\n",
              "      <td>f</td>\n",
              "      <td>https://a0.muscache.com/ac/users/956883/profil...</td>\n",
              "      <td>https://a0.muscache.com/ac/users/956883/profil...</td>\n",
              "      <td>Queen Anne</td>\n",
              "      <td>3.0</td>\n",
              "      <td>3.0</td>\n",
              "      <td>['email', 'phone', 'reviews', 'kba']</td>\n",
              "      <td>t</td>\n",
              "      <td>t</td>\n",
              "    </tr>\n",
              "  </tbody>\n",
              "</table>\n",
              "</div>"
            ],
            "text/plain": [
              "   host_id                                  host_url host_name  host_since  \\\n",
              "0   956883  https://www.airbnb.com/users/show/956883     Maija  11-08-2011   \n",
              "\n",
              "                        host_location  \\\n",
              "0  Seattle, Washington, United States   \n",
              "\n",
              "                                          host_about  host_response_time  \\\n",
              "0  I am an artist, interior designer, and run a s...  within a few hours   \n",
              "\n",
              "  host_response_rate host_acceptance_rate host_is_superhost  \\\n",
              "0                96%                 100%                 f   \n",
              "\n",
              "                                  host_thumbnail_url  \\\n",
              "0  https://a0.muscache.com/ac/users/956883/profil...   \n",
              "\n",
              "                                    host_picture_url host_neighbourhood  \\\n",
              "0  https://a0.muscache.com/ac/users/956883/profil...         Queen Anne   \n",
              "\n",
              "   host_listings_count  host_total_listings_count  \\\n",
              "0                  3.0                        3.0   \n",
              "\n",
              "                     host_verifications host_has_profile_pic  \\\n",
              "0  ['email', 'phone', 'reviews', 'kba']                    t   \n",
              "\n",
              "  host_identity_verified  \n",
              "0                      t  "
            ]
          },
          "execution_count": 18,
          "metadata": {},
          "output_type": "execute_result"
        }
      ],
      "source": [
        "host.head(1)"
      ]
    },
    {
      "cell_type": "code",
      "execution_count": null,
      "metadata": {
        "id": "Hf4WqH2bH3th",
        "outputId": "314d0e51-3b4a-4f33-83d9-e3c71cb11e7c"
      },
      "outputs": [
        {
          "data": {
            "text/plain": [
              "(3818, 18)"
            ]
          },
          "execution_count": 19,
          "metadata": {},
          "output_type": "execute_result"
        }
      ],
      "source": [
        "host.shape"
      ]
    },
    {
      "cell_type": "code",
      "execution_count": null,
      "metadata": {
        "id": "8fiJxPDzH3th",
        "outputId": "b06fa61e-9449-4919-ea60-5acae70dbef5"
      },
      "outputs": [
        {
          "data": {
            "text/plain": [
              "2751"
            ]
          },
          "execution_count": 20,
          "metadata": {},
          "output_type": "execute_result"
        }
      ],
      "source": [
        "len(host.host_id.unique())"
      ]
    },
    {
      "cell_type": "code",
      "execution_count": null,
      "metadata": {
        "id": "Sgrqsc_wH3ti",
        "outputId": "3920a8bc-355a-4928-d8fe-ce297b735a51"
      },
      "outputs": [
        {
          "data": {
            "text/plain": [
              "46"
            ]
          },
          "execution_count": 21,
          "metadata": {},
          "output_type": "execute_result"
        }
      ],
      "source": [
        "host['host_id'].value_counts().max()"
      ]
    },
    {
      "cell_type": "code",
      "execution_count": null,
      "metadata": {
        "id": "dgt7YXW5H3ti",
        "outputId": "51c15d2f-490f-4bbd-fafb-b933cf6b6d31"
      },
      "outputs": [
        {
          "data": {
            "text/html": [
              "<div>\n",
              "<style scoped>\n",
              "    .dataframe tbody tr th:only-of-type {\n",
              "        vertical-align: middle;\n",
              "    }\n",
              "\n",
              "    .dataframe tbody tr th {\n",
              "        vertical-align: top;\n",
              "    }\n",
              "\n",
              "    .dataframe thead th {\n",
              "        text-align: right;\n",
              "    }\n",
              "</style>\n",
              "<table border=\"1\" class=\"dataframe\">\n",
              "  <thead>\n",
              "    <tr style=\"text-align: right;\">\n",
              "      <th></th>\n",
              "      <th>host_id</th>\n",
              "      <th>host_url</th>\n",
              "      <th>host_name</th>\n",
              "      <th>host_since</th>\n",
              "      <th>host_location</th>\n",
              "      <th>host_about</th>\n",
              "      <th>host_response_time</th>\n",
              "      <th>host_response_rate</th>\n",
              "      <th>host_acceptance_rate</th>\n",
              "      <th>host_is_superhost</th>\n",
              "      <th>host_thumbnail_url</th>\n",
              "      <th>host_picture_url</th>\n",
              "      <th>host_neighbourhood</th>\n",
              "      <th>host_listings_count</th>\n",
              "      <th>host_total_listings_count</th>\n",
              "      <th>host_verifications</th>\n",
              "      <th>host_has_profile_pic</th>\n",
              "      <th>host_identity_verified</th>\n",
              "    </tr>\n",
              "  </thead>\n",
              "  <tbody>\n",
              "    <tr>\n",
              "      <th>1077</th>\n",
              "      <td>8534462</td>\n",
              "      <td>https://www.airbnb.com/users/show/8534462</td>\n",
              "      <td>Daniela</td>\n",
              "      <td>30-08-2013</td>\n",
              "      <td>Seattle, Washington, United States</td>\n",
              "      <td>It would be my pleasure to share and explore t...</td>\n",
              "      <td>within an hour</td>\n",
              "      <td>100%</td>\n",
              "      <td>100%</td>\n",
              "      <td>t</td>\n",
              "      <td>https://a2.muscache.com/ac/pictures/a4d7d053-c...</td>\n",
              "      <td>https://a2.muscache.com/ac/pictures/a4d7d053-c...</td>\n",
              "      <td>Belltown</td>\n",
              "      <td>48.0</td>\n",
              "      <td>48.0</td>\n",
              "      <td>['email', 'phone', 'facebook', 'reviews', 'kba']</td>\n",
              "      <td>t</td>\n",
              "      <td>t</td>\n",
              "    </tr>\n",
              "    <tr>\n",
              "      <th>1149</th>\n",
              "      <td>8534462</td>\n",
              "      <td>https://www.airbnb.com/users/show/8534462</td>\n",
              "      <td>Daniela</td>\n",
              "      <td>30-08-2013</td>\n",
              "      <td>Seattle, Washington, United States</td>\n",
              "      <td>It would be my pleasure to share and explore t...</td>\n",
              "      <td>within an hour</td>\n",
              "      <td>100%</td>\n",
              "      <td>100%</td>\n",
              "      <td>t</td>\n",
              "      <td>https://a2.muscache.com/ac/pictures/a4d7d053-c...</td>\n",
              "      <td>https://a2.muscache.com/ac/pictures/a4d7d053-c...</td>\n",
              "      <td>Belltown</td>\n",
              "      <td>48.0</td>\n",
              "      <td>48.0</td>\n",
              "      <td>['email', 'phone', 'facebook', 'reviews', 'kba']</td>\n",
              "      <td>t</td>\n",
              "      <td>t</td>\n",
              "    </tr>\n",
              "  </tbody>\n",
              "</table>\n",
              "</div>"
            ],
            "text/plain": [
              "      host_id                                   host_url host_name  \\\n",
              "1077  8534462  https://www.airbnb.com/users/show/8534462   Daniela   \n",
              "1149  8534462  https://www.airbnb.com/users/show/8534462   Daniela   \n",
              "\n",
              "      host_since                       host_location  \\\n",
              "1077  30-08-2013  Seattle, Washington, United States   \n",
              "1149  30-08-2013  Seattle, Washington, United States   \n",
              "\n",
              "                                             host_about host_response_time  \\\n",
              "1077  It would be my pleasure to share and explore t...     within an hour   \n",
              "1149  It would be my pleasure to share and explore t...     within an hour   \n",
              "\n",
              "     host_response_rate host_acceptance_rate host_is_superhost  \\\n",
              "1077               100%                 100%                 t   \n",
              "1149               100%                 100%                 t   \n",
              "\n",
              "                                     host_thumbnail_url  \\\n",
              "1077  https://a2.muscache.com/ac/pictures/a4d7d053-c...   \n",
              "1149  https://a2.muscache.com/ac/pictures/a4d7d053-c...   \n",
              "\n",
              "                                       host_picture_url host_neighbourhood  \\\n",
              "1077  https://a2.muscache.com/ac/pictures/a4d7d053-c...           Belltown   \n",
              "1149  https://a2.muscache.com/ac/pictures/a4d7d053-c...           Belltown   \n",
              "\n",
              "      host_listings_count  host_total_listings_count  \\\n",
              "1077                 48.0                       48.0   \n",
              "1149                 48.0                       48.0   \n",
              "\n",
              "                                    host_verifications host_has_profile_pic  \\\n",
              "1077  ['email', 'phone', 'facebook', 'reviews', 'kba']                    t   \n",
              "1149  ['email', 'phone', 'facebook', 'reviews', 'kba']                    t   \n",
              "\n",
              "     host_identity_verified  \n",
              "1077                      t  \n",
              "1149                      t  "
            ]
          },
          "execution_count": 22,
          "metadata": {},
          "output_type": "execute_result"
        }
      ],
      "source": [
        "host[host['host_id']==8534462].head(2) #Seaech For Values"
      ]
    },
    {
      "cell_type": "code",
      "execution_count": null,
      "metadata": {
        "id": "sH621F_EH3ti"
      },
      "outputs": [],
      "source": [
        "#Dropping Duplicate Values in the DataFrame"
      ]
    },
    {
      "cell_type": "code",
      "execution_count": null,
      "metadata": {
        "id": "sRXSMh4XH3ti",
        "outputId": "e81d5f46-6814-4054-deaf-685075e08d12"
      },
      "outputs": [
        {
          "name": "stderr",
          "output_type": "stream",
          "text": [
            "C:\\Users\\16314\\Anaconda3\\lib\\site-packages\\ipykernel_launcher.py:1: SettingWithCopyWarning: \n",
            "A value is trying to be set on a copy of a slice from a DataFrame\n",
            "\n",
            "See the caveats in the documentation: https://pandas.pydata.org/pandas-docs/stable/user_guide/indexing.html#returning-a-view-versus-a-copy\n",
            "  \"\"\"Entry point for launching an IPython kernel.\n"
          ]
        }
      ],
      "source": [
        "host.drop_duplicates(inplace=True)"
      ]
    },
    {
      "cell_type": "code",
      "execution_count": null,
      "metadata": {
        "id": "3Ngxvs5pH3ti",
        "outputId": "82e50247-808e-41e1-fb03-ecdac1a33405"
      },
      "outputs": [
        {
          "data": {
            "text/plain": [
              "(2751, 18)"
            ]
          },
          "execution_count": 25,
          "metadata": {},
          "output_type": "execute_result"
        }
      ],
      "source": [
        "host.shape"
      ]
    },
    {
      "cell_type": "code",
      "execution_count": null,
      "metadata": {
        "id": "FARasJv-H3ti",
        "outputId": "fe56a606-17f8-4203-dc5d-68496697ed8b"
      },
      "outputs": [
        {
          "data": {
            "text/html": [
              "<div>\n",
              "<style scoped>\n",
              "    .dataframe tbody tr th:only-of-type {\n",
              "        vertical-align: middle;\n",
              "    }\n",
              "\n",
              "    .dataframe tbody tr th {\n",
              "        vertical-align: top;\n",
              "    }\n",
              "\n",
              "    .dataframe thead th {\n",
              "        text-align: right;\n",
              "    }\n",
              "</style>\n",
              "<table border=\"1\" class=\"dataframe\">\n",
              "  <thead>\n",
              "    <tr style=\"text-align: right;\">\n",
              "      <th></th>\n",
              "      <th>host_id</th>\n",
              "      <th>host_url</th>\n",
              "      <th>host_name</th>\n",
              "      <th>host_since</th>\n",
              "      <th>host_location</th>\n",
              "      <th>host_about</th>\n",
              "      <th>host_response_time</th>\n",
              "      <th>host_response_rate</th>\n",
              "      <th>host_acceptance_rate</th>\n",
              "      <th>host_is_superhost</th>\n",
              "      <th>host_thumbnail_url</th>\n",
              "      <th>host_picture_url</th>\n",
              "      <th>host_neighbourhood</th>\n",
              "      <th>host_listings_count</th>\n",
              "      <th>host_total_listings_count</th>\n",
              "      <th>host_verifications</th>\n",
              "      <th>host_has_profile_pic</th>\n",
              "      <th>host_identity_verified</th>\n",
              "    </tr>\n",
              "  </thead>\n",
              "  <tbody>\n",
              "    <tr>\n",
              "      <th>0</th>\n",
              "      <td>956883</td>\n",
              "      <td>https://www.airbnb.com/users/show/956883</td>\n",
              "      <td>Maija</td>\n",
              "      <td>11-08-2011</td>\n",
              "      <td>Seattle, Washington, United States</td>\n",
              "      <td>I am an artist, interior designer, and run a s...</td>\n",
              "      <td>within a few hours</td>\n",
              "      <td>96%</td>\n",
              "      <td>100%</td>\n",
              "      <td>f</td>\n",
              "      <td>https://a0.muscache.com/ac/users/956883/profil...</td>\n",
              "      <td>https://a0.muscache.com/ac/users/956883/profil...</td>\n",
              "      <td>Queen Anne</td>\n",
              "      <td>3.0</td>\n",
              "      <td>3.0</td>\n",
              "      <td>['email', 'phone', 'reviews', 'kba']</td>\n",
              "      <td>t</td>\n",
              "      <td>t</td>\n",
              "    </tr>\n",
              "    <tr>\n",
              "      <th>1</th>\n",
              "      <td>5177328</td>\n",
              "      <td>https://www.airbnb.com/users/show/5177328</td>\n",
              "      <td>Andrea</td>\n",
              "      <td>21-02-2013</td>\n",
              "      <td>Seattle, Washington, United States</td>\n",
              "      <td>Living east coast/left coast/overseas.  Time i...</td>\n",
              "      <td>within an hour</td>\n",
              "      <td>98%</td>\n",
              "      <td>100%</td>\n",
              "      <td>t</td>\n",
              "      <td>https://a0.muscache.com/ac/users/5177328/profi...</td>\n",
              "      <td>https://a0.muscache.com/ac/users/5177328/profi...</td>\n",
              "      <td>Queen Anne</td>\n",
              "      <td>6.0</td>\n",
              "      <td>6.0</td>\n",
              "      <td>['email', 'phone', 'facebook', 'linkedin', 're...</td>\n",
              "      <td>t</td>\n",
              "      <td>t</td>\n",
              "    </tr>\n",
              "    <tr>\n",
              "      <th>2</th>\n",
              "      <td>16708587</td>\n",
              "      <td>https://www.airbnb.com/users/show/16708587</td>\n",
              "      <td>Jill</td>\n",
              "      <td>12-06-2014</td>\n",
              "      <td>Seattle, Washington, United States</td>\n",
              "      <td>i love living in Seattle.  i grew up in the mi...</td>\n",
              "      <td>within a few hours</td>\n",
              "      <td>67%</td>\n",
              "      <td>100%</td>\n",
              "      <td>f</td>\n",
              "      <td>https://a1.muscache.com/ac/users/16708587/prof...</td>\n",
              "      <td>https://a1.muscache.com/ac/users/16708587/prof...</td>\n",
              "      <td>Queen Anne</td>\n",
              "      <td>2.0</td>\n",
              "      <td>2.0</td>\n",
              "      <td>['email', 'phone', 'google', 'reviews', 'jumio']</td>\n",
              "      <td>t</td>\n",
              "      <td>t</td>\n",
              "    </tr>\n",
              "    <tr>\n",
              "      <th>3</th>\n",
              "      <td>9851441</td>\n",
              "      <td>https://www.airbnb.com/users/show/9851441</td>\n",
              "      <td>Emily</td>\n",
              "      <td>06-11-2013</td>\n",
              "      <td>Seattle, Washington, United States</td>\n",
              "      <td>NaN</td>\n",
              "      <td>NaN</td>\n",
              "      <td>NaN</td>\n",
              "      <td>NaN</td>\n",
              "      <td>f</td>\n",
              "      <td>https://a2.muscache.com/ac/users/9851441/profi...</td>\n",
              "      <td>https://a2.muscache.com/ac/users/9851441/profi...</td>\n",
              "      <td>Queen Anne</td>\n",
              "      <td>1.0</td>\n",
              "      <td>1.0</td>\n",
              "      <td>['email', 'phone', 'facebook', 'reviews', 'jum...</td>\n",
              "      <td>t</td>\n",
              "      <td>t</td>\n",
              "    </tr>\n",
              "    <tr>\n",
              "      <th>4</th>\n",
              "      <td>1452570</td>\n",
              "      <td>https://www.airbnb.com/users/show/1452570</td>\n",
              "      <td>Emily</td>\n",
              "      <td>29-11-2011</td>\n",
              "      <td>Seattle, Washington, United States</td>\n",
              "      <td>Hi, I live in Seattle, Washington but I'm orig...</td>\n",
              "      <td>within an hour</td>\n",
              "      <td>100%</td>\n",
              "      <td>NaN</td>\n",
              "      <td>f</td>\n",
              "      <td>https://a0.muscache.com/ac/users/1452570/profi...</td>\n",
              "      <td>https://a0.muscache.com/ac/users/1452570/profi...</td>\n",
              "      <td>Queen Anne</td>\n",
              "      <td>2.0</td>\n",
              "      <td>2.0</td>\n",
              "      <td>['email', 'phone', 'facebook', 'reviews', 'kba']</td>\n",
              "      <td>t</td>\n",
              "      <td>t</td>\n",
              "    </tr>\n",
              "  </tbody>\n",
              "</table>\n",
              "</div>"
            ],
            "text/plain": [
              "    host_id                                    host_url host_name  host_since  \\\n",
              "0    956883    https://www.airbnb.com/users/show/956883     Maija  11-08-2011   \n",
              "1   5177328   https://www.airbnb.com/users/show/5177328    Andrea  21-02-2013   \n",
              "2  16708587  https://www.airbnb.com/users/show/16708587      Jill  12-06-2014   \n",
              "3   9851441   https://www.airbnb.com/users/show/9851441     Emily  06-11-2013   \n",
              "4   1452570   https://www.airbnb.com/users/show/1452570     Emily  29-11-2011   \n",
              "\n",
              "                        host_location  \\\n",
              "0  Seattle, Washington, United States   \n",
              "1  Seattle, Washington, United States   \n",
              "2  Seattle, Washington, United States   \n",
              "3  Seattle, Washington, United States   \n",
              "4  Seattle, Washington, United States   \n",
              "\n",
              "                                          host_about  host_response_time  \\\n",
              "0  I am an artist, interior designer, and run a s...  within a few hours   \n",
              "1  Living east coast/left coast/overseas.  Time i...      within an hour   \n",
              "2  i love living in Seattle.  i grew up in the mi...  within a few hours   \n",
              "3                                                NaN                 NaN   \n",
              "4  Hi, I live in Seattle, Washington but I'm orig...      within an hour   \n",
              "\n",
              "  host_response_rate host_acceptance_rate host_is_superhost  \\\n",
              "0                96%                 100%                 f   \n",
              "1                98%                 100%                 t   \n",
              "2                67%                 100%                 f   \n",
              "3                NaN                  NaN                 f   \n",
              "4               100%                  NaN                 f   \n",
              "\n",
              "                                  host_thumbnail_url  \\\n",
              "0  https://a0.muscache.com/ac/users/956883/profil...   \n",
              "1  https://a0.muscache.com/ac/users/5177328/profi...   \n",
              "2  https://a1.muscache.com/ac/users/16708587/prof...   \n",
              "3  https://a2.muscache.com/ac/users/9851441/profi...   \n",
              "4  https://a0.muscache.com/ac/users/1452570/profi...   \n",
              "\n",
              "                                    host_picture_url host_neighbourhood  \\\n",
              "0  https://a0.muscache.com/ac/users/956883/profil...         Queen Anne   \n",
              "1  https://a0.muscache.com/ac/users/5177328/profi...         Queen Anne   \n",
              "2  https://a1.muscache.com/ac/users/16708587/prof...         Queen Anne   \n",
              "3  https://a2.muscache.com/ac/users/9851441/profi...         Queen Anne   \n",
              "4  https://a0.muscache.com/ac/users/1452570/profi...         Queen Anne   \n",
              "\n",
              "   host_listings_count  host_total_listings_count  \\\n",
              "0                  3.0                        3.0   \n",
              "1                  6.0                        6.0   \n",
              "2                  2.0                        2.0   \n",
              "3                  1.0                        1.0   \n",
              "4                  2.0                        2.0   \n",
              "\n",
              "                                  host_verifications host_has_profile_pic  \\\n",
              "0               ['email', 'phone', 'reviews', 'kba']                    t   \n",
              "1  ['email', 'phone', 'facebook', 'linkedin', 're...                    t   \n",
              "2   ['email', 'phone', 'google', 'reviews', 'jumio']                    t   \n",
              "3  ['email', 'phone', 'facebook', 'reviews', 'jum...                    t   \n",
              "4   ['email', 'phone', 'facebook', 'reviews', 'kba']                    t   \n",
              "\n",
              "  host_identity_verified  \n",
              "0                      t  \n",
              "1                      t  \n",
              "2                      t  \n",
              "3                      t  \n",
              "4                      t  "
            ]
          },
          "execution_count": 26,
          "metadata": {},
          "output_type": "execute_result"
        }
      ],
      "source": [
        "host.head(5)"
      ]
    },
    {
      "cell_type": "code",
      "execution_count": null,
      "metadata": {
        "id": "geTfV83tH3ti"
      },
      "outputs": [],
      "source": [
        "### Dropping the all columns from mail table(listings) except Host ID:"
      ]
    },
    {
      "cell_type": "code",
      "execution_count": null,
      "metadata": {
        "id": "3yyOpx6sH3tj",
        "outputId": "74d505b3-4d85-4696-da11-d8f1654e85d1"
      },
      "outputs": [
        {
          "data": {
            "text/plain": [
              "Index(['host_id', 'host_url', 'host_name', 'host_since', 'host_location',\n",
              "       'host_about', 'host_response_time', 'host_response_rate',\n",
              "       'host_acceptance_rate', 'host_is_superhost', 'host_thumbnail_url',\n",
              "       'host_picture_url', 'host_neighbourhood', 'host_listings_count',\n",
              "       'host_total_listings_count', 'host_verifications',\n",
              "       'host_has_profile_pic', 'host_identity_verified'],\n",
              "      dtype='object')"
            ]
          },
          "execution_count": 28,
          "metadata": {},
          "output_type": "execute_result"
        }
      ],
      "source": [
        "host.columns"
      ]
    },
    {
      "cell_type": "code",
      "execution_count": null,
      "metadata": {
        "id": "iIt0xVYrH3tj"
      },
      "outputs": [],
      "source": [
        "listings.drop(columns=['host_url', 'host_name', 'host_since', 'host_location',\n",
        "       'host_about', 'host_response_time', 'host_response_rate',\n",
        "       'host_acceptance_rate', 'host_is_superhost', 'host_thumbnail_url',\n",
        "       'host_picture_url', 'host_neighbourhood', 'host_listings_count',\n",
        "       'host_total_listings_count', 'host_verifications',\n",
        "       'host_has_profile_pic', 'host_identity_verified'],inplace=True)"
      ]
    },
    {
      "cell_type": "markdown",
      "metadata": {
        "id": "Y1OoF-uPH3tj"
      },
      "source": [
        "### Creating Neighbourhood:"
      ]
    },
    {
      "cell_type": "code",
      "execution_count": null,
      "metadata": {
        "id": "9ZQaNVx8H3tj"
      },
      "outputs": [],
      "source": [
        "neighbourhood = listings[[\n",
        "      'neighbourhood', 'neighbourhood_cleansed',\n",
        "       'neighbourhood_group_cleansed','market']]"
      ]
    },
    {
      "cell_type": "code",
      "execution_count": null,
      "metadata": {
        "id": "y8a9zdudH3tj",
        "outputId": "d12f3586-fd4d-4272-d49c-80f38ecb74ee"
      },
      "outputs": [
        {
          "data": {
            "text/plain": [
              "(3818, 4)"
            ]
          },
          "execution_count": 31,
          "metadata": {},
          "output_type": "execute_result"
        }
      ],
      "source": [
        "neighbourhood.shape"
      ]
    },
    {
      "cell_type": "code",
      "execution_count": null,
      "metadata": {
        "id": "ORW2B4NhH3tj",
        "outputId": "95eb9ef2-55e5-481f-be37-1b6beef928a8"
      },
      "outputs": [
        {
          "name": "stderr",
          "output_type": "stream",
          "text": [
            "C:\\Users\\16314\\Anaconda3\\lib\\site-packages\\ipykernel_launcher.py:1: SettingWithCopyWarning: \n",
            "A value is trying to be set on a copy of a slice from a DataFrame\n",
            "\n",
            "See the caveats in the documentation: https://pandas.pydata.org/pandas-docs/stable/user_guide/indexing.html#returning-a-view-versus-a-copy\n",
            "  \"\"\"Entry point for launching an IPython kernel.\n"
          ]
        }
      ],
      "source": [
        "neighbourhood.drop_duplicates(inplace=True)"
      ]
    },
    {
      "cell_type": "code",
      "execution_count": null,
      "metadata": {
        "id": "eO34t6uWH3tj",
        "outputId": "2997b63b-9f8a-43a8-e2fd-b2caaf9e56d0"
      },
      "outputs": [
        {
          "data": {
            "text/plain": [
              "(270, 4)"
            ]
          },
          "execution_count": 33,
          "metadata": {},
          "output_type": "execute_result"
        }
      ],
      "source": [
        "neighbourhood.shape"
      ]
    },
    {
      "cell_type": "code",
      "execution_count": null,
      "metadata": {
        "id": "yEk-Y-_dH3tk"
      },
      "outputs": [],
      "source": [
        "neighbourhood = neighbourhood.drop(['neighbourhood'],1)"
      ]
    },
    {
      "cell_type": "code",
      "execution_count": null,
      "metadata": {
        "id": "PcvHbRoNH3tk",
        "outputId": "6d0c32c4-111d-43f1-b64a-e730dafc7b00"
      },
      "outputs": [
        {
          "data": {
            "text/html": [
              "<div>\n",
              "<style scoped>\n",
              "    .dataframe tbody tr th:only-of-type {\n",
              "        vertical-align: middle;\n",
              "    }\n",
              "\n",
              "    .dataframe tbody tr th {\n",
              "        vertical-align: top;\n",
              "    }\n",
              "\n",
              "    .dataframe thead th {\n",
              "        text-align: right;\n",
              "    }\n",
              "</style>\n",
              "<table border=\"1\" class=\"dataframe\">\n",
              "  <thead>\n",
              "    <tr style=\"text-align: right;\">\n",
              "      <th></th>\n",
              "      <th>neighbourhood_cleansed</th>\n",
              "      <th>neighbourhood_group_cleansed</th>\n",
              "      <th>market</th>\n",
              "    </tr>\n",
              "  </thead>\n",
              "  <tbody>\n",
              "    <tr>\n",
              "      <th>0</th>\n",
              "      <td>West Queen Anne</td>\n",
              "      <td>Queen Anne</td>\n",
              "      <td>Seattle</td>\n",
              "    </tr>\n",
              "  </tbody>\n",
              "</table>\n",
              "</div>"
            ],
            "text/plain": [
              "  neighbourhood_cleansed neighbourhood_group_cleansed   market\n",
              "0        West Queen Anne                   Queen Anne  Seattle"
            ]
          },
          "execution_count": 35,
          "metadata": {},
          "output_type": "execute_result"
        }
      ],
      "source": [
        "neighbourhood.head(1)"
      ]
    },
    {
      "cell_type": "code",
      "execution_count": null,
      "metadata": {
        "id": "1duP_v2IH3tk"
      },
      "outputs": [],
      "source": [
        "#Renaming Columns"
      ]
    },
    {
      "cell_type": "code",
      "execution_count": null,
      "metadata": {
        "id": "o0FuSTl3H3tk"
      },
      "outputs": [],
      "source": [
        "neighbourhood.rename(columns={'neighbourhood_cleansed':'neighbourhood','neighbourhood_group_cleansed':'neighbourhood_group'},inplace=True)"
      ]
    },
    {
      "cell_type": "code",
      "execution_count": null,
      "metadata": {
        "scrolled": true,
        "id": "YCLSD2cRH3tk",
        "outputId": "31a8bd0f-7e07-41d4-cdf8-d9ffea290479"
      },
      "outputs": [
        {
          "data": {
            "text/html": [
              "<div>\n",
              "<style scoped>\n",
              "    .dataframe tbody tr th:only-of-type {\n",
              "        vertical-align: middle;\n",
              "    }\n",
              "\n",
              "    .dataframe tbody tr th {\n",
              "        vertical-align: top;\n",
              "    }\n",
              "\n",
              "    .dataframe thead th {\n",
              "        text-align: right;\n",
              "    }\n",
              "</style>\n",
              "<table border=\"1\" class=\"dataframe\">\n",
              "  <thead>\n",
              "    <tr style=\"text-align: right;\">\n",
              "      <th></th>\n",
              "      <th>neighbourhood</th>\n",
              "      <th>neighbourhood_group</th>\n",
              "      <th>market</th>\n",
              "    </tr>\n",
              "  </thead>\n",
              "  <tbody>\n",
              "    <tr>\n",
              "      <th>0</th>\n",
              "      <td>West Queen Anne</td>\n",
              "      <td>Queen Anne</td>\n",
              "      <td>Seattle</td>\n",
              "    </tr>\n",
              "  </tbody>\n",
              "</table>\n",
              "</div>"
            ],
            "text/plain": [
              "     neighbourhood neighbourhood_group   market\n",
              "0  West Queen Anne          Queen Anne  Seattle"
            ]
          },
          "execution_count": 38,
          "metadata": {},
          "output_type": "execute_result"
        }
      ],
      "source": [
        "neighbourhood.head(1)"
      ]
    },
    {
      "cell_type": "code",
      "execution_count": null,
      "metadata": {
        "scrolled": false,
        "id": "r7gD1QNGH3tk",
        "outputId": "c26fdd36-64dd-4e01-cb32-fdd3a95b62dc"
      },
      "outputs": [
        {
          "data": {
            "text/plain": [
              "array(['West Queen Anne', 'Adams', 'West Woodland', 'East Queen Anne',\n",
              "       'Wallingford', 'North Queen Anne', 'Green Lake', 'Westlake',\n",
              "       'Mann', 'Madrona', 'University District', 'Harrison/Denny-Blaine',\n",
              "       'Minor', 'Leschi', 'Atlantic', 'Pike-Market', 'Eastlake',\n",
              "       'South Lake Union', 'Lawton Park', 'Briarcliff', 'Belltown',\n",
              "       'International District', 'Central Business District',\n",
              "       'First Hill', 'Yesler Terrace', 'Pioneer Square', 'Gatewood',\n",
              "       'Arbor Heights', 'Alki', 'North Admiral', 'Crown Hill',\n",
              "       'Fairmount Park', 'Genesee', 'Interbay', 'Industrial District',\n",
              "       'Mid-Beacon Hill', 'South Beacon Hill', 'Greenwood', 'Holly Park',\n",
              "       'Fauntleroy', 'North Beacon Hill', 'Mount Baker', 'Brighton',\n",
              "       'South Delridge', 'View Ridge', 'Dunlap', 'Rainier Beach',\n",
              "       'Columbia City', 'Seward Park', 'North Delridge', 'Maple Leaf',\n",
              "       'Ravenna', 'Riverview', 'Portage Bay', 'Bryant', 'Montlake',\n",
              "       'Broadway', 'Loyal Heights', 'Victory Heights', 'Matthews Beach',\n",
              "       'Whittier Heights', 'Meadowbrook', 'Olympic Hills', 'Roosevelt',\n",
              "       'Lower Queen Anne', 'Wedgwood', 'North Beach/Blue Ridge',\n",
              "       'Cedar Park', 'Bitter Lake', 'Sunset Hill', 'Haller Lake',\n",
              "       'Pinehurst', 'North College Park', 'Phinney Ridge', 'Windermere',\n",
              "       'Laurelhurst', 'Southeast Magnolia', 'High Point', 'Seaview',\n",
              "       'Georgetown', 'South Park', 'Roxhill', 'Highland Park',\n",
              "       'Madison Park', 'Stevens', 'Broadview', 'Fremont'], dtype=object)"
            ]
          },
          "execution_count": 39,
          "metadata": {},
          "output_type": "execute_result"
        }
      ],
      "source": [
        "neighbourhood.neighbourhood.unique()"
      ]
    },
    {
      "cell_type": "code",
      "execution_count": null,
      "metadata": {
        "id": "EgHFumyEH3tk"
      },
      "outputs": [],
      "source": [
        "#Removing City Because Non Standart Values\n",
        "# neighbourhood['city'] = neighbourhood['market']\n",
        "\n",
        "# neighbourhood = neighbourhood.drop(['market'],1)\n",
        "\n",
        "# neighbourhood.shape"
      ]
    },
    {
      "cell_type": "code",
      "execution_count": null,
      "metadata": {
        "id": "NeytBLMQH3tl"
      },
      "outputs": [],
      "source": [
        "neighbourhood.drop_duplicates(inplace=True)"
      ]
    },
    {
      "cell_type": "code",
      "execution_count": null,
      "metadata": {
        "id": "iJL9aLqcH3tl",
        "outputId": "0bd03464-4cdf-468b-9438-72570c0e9bb5"
      },
      "outputs": [
        {
          "data": {
            "text/plain": [
              "(87, 3)"
            ]
          },
          "execution_count": 42,
          "metadata": {},
          "output_type": "execute_result"
        }
      ],
      "source": [
        "neighbourhood.shape"
      ]
    },
    {
      "cell_type": "code",
      "execution_count": null,
      "metadata": {
        "id": "PKdDxL4_H3tl",
        "outputId": "b9badf31-7bec-4d28-90ad-5fea43c9b07c"
      },
      "outputs": [
        {
          "data": {
            "text/html": [
              "<div>\n",
              "<style scoped>\n",
              "    .dataframe tbody tr th:only-of-type {\n",
              "        vertical-align: middle;\n",
              "    }\n",
              "\n",
              "    .dataframe tbody tr th {\n",
              "        vertical-align: top;\n",
              "    }\n",
              "\n",
              "    .dataframe thead th {\n",
              "        text-align: right;\n",
              "    }\n",
              "</style>\n",
              "<table border=\"1\" class=\"dataframe\">\n",
              "  <thead>\n",
              "    <tr style=\"text-align: right;\">\n",
              "      <th></th>\n",
              "      <th>neighbourhood</th>\n",
              "      <th>neighbourhood_group</th>\n",
              "      <th>market</th>\n",
              "    </tr>\n",
              "  </thead>\n",
              "  <tbody>\n",
              "    <tr>\n",
              "      <th>0</th>\n",
              "      <td>West Queen Anne</td>\n",
              "      <td>Queen Anne</td>\n",
              "      <td>Seattle</td>\n",
              "    </tr>\n",
              "    <tr>\n",
              "      <th>65</th>\n",
              "      <td>Adams</td>\n",
              "      <td>Ballard</td>\n",
              "      <td>Seattle</td>\n",
              "    </tr>\n",
              "    <tr>\n",
              "      <th>135</th>\n",
              "      <td>West Woodland</td>\n",
              "      <td>Ballard</td>\n",
              "      <td>Seattle</td>\n",
              "    </tr>\n",
              "    <tr>\n",
              "      <th>199</th>\n",
              "      <td>East Queen Anne</td>\n",
              "      <td>Queen Anne</td>\n",
              "      <td>Seattle</td>\n",
              "    </tr>\n",
              "    <tr>\n",
              "      <th>280</th>\n",
              "      <td>Wallingford</td>\n",
              "      <td>Other neighborhoods</td>\n",
              "      <td>Seattle</td>\n",
              "    </tr>\n",
              "  </tbody>\n",
              "</table>\n",
              "</div>"
            ],
            "text/plain": [
              "       neighbourhood  neighbourhood_group   market\n",
              "0    West Queen Anne           Queen Anne  Seattle\n",
              "65             Adams              Ballard  Seattle\n",
              "135    West Woodland              Ballard  Seattle\n",
              "199  East Queen Anne           Queen Anne  Seattle\n",
              "280      Wallingford  Other neighborhoods  Seattle"
            ]
          },
          "execution_count": 43,
          "metadata": {},
          "output_type": "execute_result"
        }
      ],
      "source": [
        "neighbourhood.head(5)"
      ]
    },
    {
      "cell_type": "code",
      "execution_count": null,
      "metadata": {
        "id": "QKSfaG29H3tl"
      },
      "outputs": [],
      "source": [
        "neighbourhood.reset_index(inplace=True)\n",
        "neighbourhood.reset_index(inplace=True)"
      ]
    },
    {
      "cell_type": "code",
      "execution_count": null,
      "metadata": {
        "id": "O7rjK3AjH3tl"
      },
      "outputs": [],
      "source": [
        "neighbourhood.drop('index',1,inplace=True)"
      ]
    },
    {
      "cell_type": "code",
      "execution_count": null,
      "metadata": {
        "id": "z7nocO1dH3tl"
      },
      "outputs": [],
      "source": [
        "neighbourhood.rename(columns={'level_0':'location_id'},inplace=True)"
      ]
    },
    {
      "cell_type": "code",
      "execution_count": null,
      "metadata": {
        "id": "JO7TSR8bH3tm",
        "outputId": "2bc7b3e6-d36e-4461-a80c-06471734bf6b"
      },
      "outputs": [
        {
          "data": {
            "text/html": [
              "<div>\n",
              "<style scoped>\n",
              "    .dataframe tbody tr th:only-of-type {\n",
              "        vertical-align: middle;\n",
              "    }\n",
              "\n",
              "    .dataframe tbody tr th {\n",
              "        vertical-align: top;\n",
              "    }\n",
              "\n",
              "    .dataframe thead th {\n",
              "        text-align: right;\n",
              "    }\n",
              "</style>\n",
              "<table border=\"1\" class=\"dataframe\">\n",
              "  <thead>\n",
              "    <tr style=\"text-align: right;\">\n",
              "      <th></th>\n",
              "      <th>location_id</th>\n",
              "      <th>neighbourhood</th>\n",
              "      <th>neighbourhood_group</th>\n",
              "      <th>market</th>\n",
              "    </tr>\n",
              "  </thead>\n",
              "  <tbody>\n",
              "    <tr>\n",
              "      <th>0</th>\n",
              "      <td>0</td>\n",
              "      <td>West Queen Anne</td>\n",
              "      <td>Queen Anne</td>\n",
              "      <td>Seattle</td>\n",
              "    </tr>\n",
              "    <tr>\n",
              "      <th>1</th>\n",
              "      <td>1</td>\n",
              "      <td>Adams</td>\n",
              "      <td>Ballard</td>\n",
              "      <td>Seattle</td>\n",
              "    </tr>\n",
              "    <tr>\n",
              "      <th>2</th>\n",
              "      <td>2</td>\n",
              "      <td>West Woodland</td>\n",
              "      <td>Ballard</td>\n",
              "      <td>Seattle</td>\n",
              "    </tr>\n",
              "    <tr>\n",
              "      <th>3</th>\n",
              "      <td>3</td>\n",
              "      <td>East Queen Anne</td>\n",
              "      <td>Queen Anne</td>\n",
              "      <td>Seattle</td>\n",
              "    </tr>\n",
              "    <tr>\n",
              "      <th>4</th>\n",
              "      <td>4</td>\n",
              "      <td>Wallingford</td>\n",
              "      <td>Other neighborhoods</td>\n",
              "      <td>Seattle</td>\n",
              "    </tr>\n",
              "  </tbody>\n",
              "</table>\n",
              "</div>"
            ],
            "text/plain": [
              "   location_id    neighbourhood  neighbourhood_group   market\n",
              "0            0  West Queen Anne           Queen Anne  Seattle\n",
              "1            1            Adams              Ballard  Seattle\n",
              "2            2    West Woodland              Ballard  Seattle\n",
              "3            3  East Queen Anne           Queen Anne  Seattle\n",
              "4            4      Wallingford  Other neighborhoods  Seattle"
            ]
          },
          "execution_count": 47,
          "metadata": {},
          "output_type": "execute_result"
        }
      ],
      "source": [
        "neighbourhood.head(5)"
      ]
    },
    {
      "cell_type": "code",
      "execution_count": null,
      "metadata": {
        "id": "SWsZVg2wH3tm"
      },
      "outputs": [],
      "source": [
        "listings = pd.merge(listings,neighbourhood,how='left', left_on=['neighbourhood_cleansed','neighbourhood_group_cleansed','market'], right_on = ['neighbourhood','neighbourhood_group','market'])"
      ]
    },
    {
      "cell_type": "code",
      "execution_count": null,
      "metadata": {
        "id": "35Nv00uNH3tm",
        "outputId": "07eab016-1f87-4308-9d97-eef5e90c0939"
      },
      "outputs": [
        {
          "data": {
            "text/plain": [
              "Index(['id', 'listing_url', 'name', 'summary', 'space', 'description',\n",
              "       'neighborhood_overview', 'notes', 'transit', 'thumbnail_url',\n",
              "       'medium_url', 'picture_url', 'xl_picture_url', 'host_id', 'street',\n",
              "       'neighbourhood_x', 'neighbourhood_cleansed',\n",
              "       'neighbourhood_group_cleansed', 'city', 'state', 'zipcode', 'market',\n",
              "       'country_code', 'country', 'latitude', 'longitude', 'is_location_exact',\n",
              "       'property_type', 'room_type', 'accommodates', 'bathrooms', 'bedrooms',\n",
              "       'beds', 'bed_type', 'amenities', 'square_feet', 'price', 'weekly_price',\n",
              "       'monthly_price', 'security_deposit', 'cleaning_fee', 'guests_included',\n",
              "       'extra_people', 'minimum_nights', 'maximum_nights', 'calendar_updated',\n",
              "       'has_availability', 'availability_30', 'availability_60',\n",
              "       'availability_90', 'availability_365', 'calendar_last_scraped',\n",
              "       'number_of_reviews', 'first_review', 'last_review',\n",
              "       'review_scores_rating', 'review_scores_accuracy',\n",
              "       'review_scores_cleanliness', 'review_scores_checkin',\n",
              "       'review_scores_communication', 'review_scores_location',\n",
              "       'review_scores_value', 'requires_license', 'license',\n",
              "       'jurisdiction_names', 'instant_bookable', 'cancellation_policy',\n",
              "       'require_guest_profile_picture', 'require_guest_phone_verification',\n",
              "       'calculated_host_listings_count', 'reviews_per_month', 'location_id',\n",
              "       'neighbourhood_y', 'neighbourhood_group'],\n",
              "      dtype='object')"
            ]
          },
          "execution_count": 49,
          "metadata": {},
          "output_type": "execute_result"
        }
      ],
      "source": [
        "listings.columns"
      ]
    },
    {
      "cell_type": "code",
      "execution_count": null,
      "metadata": {
        "id": "G9wI2HHiH3tm"
      },
      "outputs": [],
      "source": [
        "#Dropping Unnecessary Columns"
      ]
    },
    {
      "cell_type": "code",
      "execution_count": null,
      "metadata": {
        "id": "yuCqS0pkH3tm"
      },
      "outputs": [],
      "source": [
        "listings.drop(columns=['neighbourhood_x','neighbourhood_group_cleansed','neighbourhood_cleansed','neighbourhood_group','neighbourhood_y','market'],inplace=True)"
      ]
    },
    {
      "cell_type": "code",
      "execution_count": null,
      "metadata": {
        "id": "bQN-iMoCH3tn",
        "outputId": "fdbde50d-4a0e-4a9b-9ced-591a19c93bfd"
      },
      "outputs": [
        {
          "data": {
            "text/plain": [
              "Index(['id', 'listing_url', 'name', 'summary', 'space', 'description',\n",
              "       'neighborhood_overview', 'notes', 'transit', 'thumbnail_url',\n",
              "       'medium_url', 'picture_url', 'xl_picture_url', 'host_id', 'street',\n",
              "       'city', 'state', 'zipcode', 'country_code', 'country', 'latitude',\n",
              "       'longitude', 'is_location_exact', 'property_type', 'room_type',\n",
              "       'accommodates', 'bathrooms', 'bedrooms', 'beds', 'bed_type',\n",
              "       'amenities', 'square_feet', 'price', 'weekly_price', 'monthly_price',\n",
              "       'security_deposit', 'cleaning_fee', 'guests_included', 'extra_people',\n",
              "       'minimum_nights', 'maximum_nights', 'calendar_updated',\n",
              "       'has_availability', 'availability_30', 'availability_60',\n",
              "       'availability_90', 'availability_365', 'calendar_last_scraped',\n",
              "       'number_of_reviews', 'first_review', 'last_review',\n",
              "       'review_scores_rating', 'review_scores_accuracy',\n",
              "       'review_scores_cleanliness', 'review_scores_checkin',\n",
              "       'review_scores_communication', 'review_scores_location',\n",
              "       'review_scores_value', 'requires_license', 'license',\n",
              "       'jurisdiction_names', 'instant_bookable', 'cancellation_policy',\n",
              "       'require_guest_profile_picture', 'require_guest_phone_verification',\n",
              "       'calculated_host_listings_count', 'reviews_per_month', 'location_id'],\n",
              "      dtype='object')"
            ]
          },
          "execution_count": 52,
          "metadata": {},
          "output_type": "execute_result"
        }
      ],
      "source": [
        "listings.columns"
      ]
    },
    {
      "cell_type": "markdown",
      "metadata": {
        "id": "6CHI4PYdH3tn"
      },
      "source": [
        "### Country Table"
      ]
    },
    {
      "cell_type": "code",
      "execution_count": null,
      "metadata": {
        "id": "wxwyfcSUH3tn"
      },
      "outputs": [],
      "source": [
        "country = listings[['country_code', 'country']]"
      ]
    },
    {
      "cell_type": "code",
      "execution_count": null,
      "metadata": {
        "id": "I0eGQ1TsH3tn",
        "outputId": "c2cd6359-98f2-49df-920b-abfaa7d7e46d"
      },
      "outputs": [
        {
          "data": {
            "text/plain": [
              "(3818, 2)"
            ]
          },
          "execution_count": 54,
          "metadata": {},
          "output_type": "execute_result"
        }
      ],
      "source": [
        "country.shape"
      ]
    },
    {
      "cell_type": "code",
      "execution_count": null,
      "metadata": {
        "id": "3Dli-5daH3tn",
        "outputId": "84cae686-de59-46b7-e3a9-18d8acfab834"
      },
      "outputs": [
        {
          "name": "stderr",
          "output_type": "stream",
          "text": [
            "C:\\Users\\16314\\Anaconda3\\lib\\site-packages\\ipykernel_launcher.py:1: SettingWithCopyWarning: \n",
            "A value is trying to be set on a copy of a slice from a DataFrame\n",
            "\n",
            "See the caveats in the documentation: https://pandas.pydata.org/pandas-docs/stable/user_guide/indexing.html#returning-a-view-versus-a-copy\n",
            "  \"\"\"Entry point for launching an IPython kernel.\n"
          ]
        }
      ],
      "source": [
        "country.drop_duplicates(inplace=True)"
      ]
    },
    {
      "cell_type": "code",
      "execution_count": null,
      "metadata": {
        "id": "Qr0--U5SH3tn",
        "outputId": "9843fe30-14d2-4bcb-a20f-6ab51d5ae7f5"
      },
      "outputs": [
        {
          "data": {
            "text/plain": [
              "(1, 2)"
            ]
          },
          "execution_count": 56,
          "metadata": {},
          "output_type": "execute_result"
        }
      ],
      "source": [
        "country.shape"
      ]
    },
    {
      "cell_type": "code",
      "execution_count": null,
      "metadata": {
        "id": "pzpcCCJVH3to"
      },
      "outputs": [],
      "source": [
        "#We can drop this all together\n",
        "listings.drop('country',1,inplace=True)"
      ]
    },
    {
      "cell_type": "code",
      "execution_count": null,
      "metadata": {
        "id": "cPSUhkUKH3to",
        "outputId": "b48edbac-efab-4843-86a0-067b530c1e42"
      },
      "outputs": [
        {
          "data": {
            "text/plain": [
              "Index(['id', 'listing_url', 'name', 'summary', 'space', 'description',\n",
              "       'neighborhood_overview', 'notes', 'transit', 'thumbnail_url',\n",
              "       'medium_url', 'picture_url', 'xl_picture_url', 'host_id', 'street',\n",
              "       'city', 'state', 'zipcode', 'country_code', 'latitude', 'longitude',\n",
              "       'is_location_exact', 'property_type', 'room_type', 'accommodates',\n",
              "       'bathrooms', 'bedrooms', 'beds', 'bed_type', 'amenities', 'square_feet',\n",
              "       'price', 'weekly_price', 'monthly_price', 'security_deposit',\n",
              "       'cleaning_fee', 'guests_included', 'extra_people', 'minimum_nights',\n",
              "       'maximum_nights', 'calendar_updated', 'has_availability',\n",
              "       'availability_30', 'availability_60', 'availability_90',\n",
              "       'availability_365', 'calendar_last_scraped', 'number_of_reviews',\n",
              "       'first_review', 'last_review', 'review_scores_rating',\n",
              "       'review_scores_accuracy', 'review_scores_cleanliness',\n",
              "       'review_scores_checkin', 'review_scores_communication',\n",
              "       'review_scores_location', 'review_scores_value', 'requires_license',\n",
              "       'license', 'jurisdiction_names', 'instant_bookable',\n",
              "       'cancellation_policy', 'require_guest_profile_picture',\n",
              "       'require_guest_phone_verification', 'calculated_host_listings_count',\n",
              "       'reviews_per_month', 'location_id'],\n",
              "      dtype='object')"
            ]
          },
          "execution_count": 58,
          "metadata": {},
          "output_type": "execute_result"
        }
      ],
      "source": [
        "listings.columns"
      ]
    },
    {
      "cell_type": "markdown",
      "metadata": {
        "id": "FegvG-iMH3to"
      },
      "source": [
        "### Images"
      ]
    },
    {
      "cell_type": "code",
      "execution_count": null,
      "metadata": {
        "id": "2m0DdV7bH3to"
      },
      "outputs": [],
      "source": [
        "image = listings[['id','thumbnail_url', 'medium_url', 'picture_url', 'xl_picture_url']]"
      ]
    },
    {
      "cell_type": "code",
      "execution_count": null,
      "metadata": {
        "id": "Nh7bqOcpH3to",
        "outputId": "94b7414e-d76e-46f9-a9cb-faa3ee291bfe"
      },
      "outputs": [
        {
          "data": {
            "text/plain": [
              "(3818, 5)"
            ]
          },
          "execution_count": 60,
          "metadata": {},
          "output_type": "execute_result"
        }
      ],
      "source": [
        "image.shape"
      ]
    },
    {
      "cell_type": "code",
      "execution_count": null,
      "metadata": {
        "id": "KjVg2mV0H3to",
        "outputId": "15a9648c-a4f9-4e7c-bf33-b87408f32265"
      },
      "outputs": [
        {
          "data": {
            "text/plain": [
              "3499"
            ]
          },
          "execution_count": 61,
          "metadata": {},
          "output_type": "execute_result"
        }
      ],
      "source": [
        "len(image.thumbnail_url.unique())"
      ]
    },
    {
      "cell_type": "code",
      "execution_count": null,
      "metadata": {
        "id": "XLO1eiguH3tp",
        "outputId": "7dc27ee7-013b-45d8-c153-fa1589f3ceb3"
      },
      "outputs": [
        {
          "data": {
            "text/html": [
              "<div>\n",
              "<style scoped>\n",
              "    .dataframe tbody tr th:only-of-type {\n",
              "        vertical-align: middle;\n",
              "    }\n",
              "\n",
              "    .dataframe tbody tr th {\n",
              "        vertical-align: top;\n",
              "    }\n",
              "\n",
              "    .dataframe thead th {\n",
              "        text-align: right;\n",
              "    }\n",
              "</style>\n",
              "<table border=\"1\" class=\"dataframe\">\n",
              "  <thead>\n",
              "    <tr style=\"text-align: right;\">\n",
              "      <th></th>\n",
              "      <th>id</th>\n",
              "      <th>thumbnail_url</th>\n",
              "      <th>medium_url</th>\n",
              "      <th>picture_url</th>\n",
              "      <th>xl_picture_url</th>\n",
              "    </tr>\n",
              "  </thead>\n",
              "  <tbody>\n",
              "    <tr>\n",
              "      <th>0</th>\n",
              "      <td>241032</td>\n",
              "      <td>NaN</td>\n",
              "      <td>NaN</td>\n",
              "      <td>https://a1.muscache.com/ac/pictures/67560560/c...</td>\n",
              "      <td>NaN</td>\n",
              "    </tr>\n",
              "    <tr>\n",
              "      <th>1</th>\n",
              "      <td>953595</td>\n",
              "      <td>https://a0.muscache.com/ac/pictures/14409893/f...</td>\n",
              "      <td>https://a0.muscache.com/im/pictures/14409893/f...</td>\n",
              "      <td>https://a0.muscache.com/ac/pictures/14409893/f...</td>\n",
              "      <td>https://a0.muscache.com/ac/pictures/14409893/f...</td>\n",
              "    </tr>\n",
              "    <tr>\n",
              "      <th>2</th>\n",
              "      <td>3308979</td>\n",
              "      <td>NaN</td>\n",
              "      <td>NaN</td>\n",
              "      <td>https://a2.muscache.com/ac/pictures/b4324e0f-a...</td>\n",
              "      <td>NaN</td>\n",
              "    </tr>\n",
              "    <tr>\n",
              "      <th>3</th>\n",
              "      <td>7421966</td>\n",
              "      <td>NaN</td>\n",
              "      <td>NaN</td>\n",
              "      <td>https://a0.muscache.com/ac/pictures/94146944/6...</td>\n",
              "      <td>NaN</td>\n",
              "    </tr>\n",
              "    <tr>\n",
              "      <th>4</th>\n",
              "      <td>278830</td>\n",
              "      <td>NaN</td>\n",
              "      <td>NaN</td>\n",
              "      <td>https://a1.muscache.com/ac/pictures/6120468/b0...</td>\n",
              "      <td>NaN</td>\n",
              "    </tr>\n",
              "  </tbody>\n",
              "</table>\n",
              "</div>"
            ],
            "text/plain": [
              "        id                                      thumbnail_url  \\\n",
              "0   241032                                                NaN   \n",
              "1   953595  https://a0.muscache.com/ac/pictures/14409893/f...   \n",
              "2  3308979                                                NaN   \n",
              "3  7421966                                                NaN   \n",
              "4   278830                                                NaN   \n",
              "\n",
              "                                          medium_url  \\\n",
              "0                                                NaN   \n",
              "1  https://a0.muscache.com/im/pictures/14409893/f...   \n",
              "2                                                NaN   \n",
              "3                                                NaN   \n",
              "4                                                NaN   \n",
              "\n",
              "                                         picture_url  \\\n",
              "0  https://a1.muscache.com/ac/pictures/67560560/c...   \n",
              "1  https://a0.muscache.com/ac/pictures/14409893/f...   \n",
              "2  https://a2.muscache.com/ac/pictures/b4324e0f-a...   \n",
              "3  https://a0.muscache.com/ac/pictures/94146944/6...   \n",
              "4  https://a1.muscache.com/ac/pictures/6120468/b0...   \n",
              "\n",
              "                                      xl_picture_url  \n",
              "0                                                NaN  \n",
              "1  https://a0.muscache.com/ac/pictures/14409893/f...  \n",
              "2                                                NaN  \n",
              "3                                                NaN  \n",
              "4                                                NaN  "
            ]
          },
          "execution_count": 62,
          "metadata": {},
          "output_type": "execute_result"
        }
      ],
      "source": [
        "image.head(5)"
      ]
    },
    {
      "cell_type": "code",
      "execution_count": null,
      "metadata": {
        "id": "MI1RsdySH3tp"
      },
      "outputs": [],
      "source": [
        "#Dropping Image Tables"
      ]
    },
    {
      "cell_type": "code",
      "execution_count": null,
      "metadata": {
        "id": "rytLiq-1H3tp"
      },
      "outputs": [],
      "source": [
        "listings.drop(columns=['thumbnail_url',\n",
        "       'medium_url', 'picture_url', 'xl_picture_url'],inplace=True)"
      ]
    },
    {
      "cell_type": "code",
      "execution_count": null,
      "metadata": {
        "id": "e9WwbwcfH3tp",
        "outputId": "5945296a-a2a0-4ec0-eb9c-ee184b102c4f"
      },
      "outputs": [
        {
          "data": {
            "text/plain": [
              "Index(['id', 'listing_url', 'name', 'summary', 'space', 'description',\n",
              "       'neighborhood_overview', 'notes', 'transit', 'host_id', 'street',\n",
              "       'city', 'state', 'zipcode', 'country_code', 'latitude', 'longitude',\n",
              "       'is_location_exact', 'property_type', 'room_type', 'accommodates',\n",
              "       'bathrooms', 'bedrooms', 'beds', 'bed_type', 'amenities', 'square_feet',\n",
              "       'price', 'weekly_price', 'monthly_price', 'security_deposit',\n",
              "       'cleaning_fee', 'guests_included', 'extra_people', 'minimum_nights',\n",
              "       'maximum_nights', 'calendar_updated', 'has_availability',\n",
              "       'availability_30', 'availability_60', 'availability_90',\n",
              "       'availability_365', 'calendar_last_scraped', 'number_of_reviews',\n",
              "       'first_review', 'last_review', 'review_scores_rating',\n",
              "       'review_scores_accuracy', 'review_scores_cleanliness',\n",
              "       'review_scores_checkin', 'review_scores_communication',\n",
              "       'review_scores_location', 'review_scores_value', 'requires_license',\n",
              "       'license', 'jurisdiction_names', 'instant_bookable',\n",
              "       'cancellation_policy', 'require_guest_profile_picture',\n",
              "       'require_guest_phone_verification', 'calculated_host_listings_count',\n",
              "       'reviews_per_month', 'location_id'],\n",
              "      dtype='object')"
            ]
          },
          "execution_count": 65,
          "metadata": {},
          "output_type": "execute_result"
        }
      ],
      "source": [
        "listings.columns"
      ]
    },
    {
      "cell_type": "markdown",
      "metadata": {
        "id": "t2PWDbFSH3tp"
      },
      "source": [
        "### Beds_Types"
      ]
    },
    {
      "cell_type": "code",
      "execution_count": null,
      "metadata": {
        "id": "iFIQ8H0HH3tq",
        "outputId": "a3689c78-f1b0-4bce-ccef-45d57cde949a"
      },
      "outputs": [
        {
          "data": {
            "text/plain": [
              "array(['Real Bed', 'Futon', 'Pull-out Sofa', 'Airbed', 'Couch'],\n",
              "      dtype=object)"
            ]
          },
          "execution_count": 66,
          "metadata": {},
          "output_type": "execute_result"
        }
      ],
      "source": [
        "listings.bed_type.unique()"
      ]
    },
    {
      "cell_type": "code",
      "execution_count": null,
      "metadata": {
        "id": "Xo2o2b62H3tq"
      },
      "outputs": [],
      "source": [
        "bed_types = listings[['bed_type']]"
      ]
    },
    {
      "cell_type": "code",
      "execution_count": null,
      "metadata": {
        "id": "4s7JSnncH3tq",
        "outputId": "2373b366-48ad-48eb-d58d-e572f754ee77"
      },
      "outputs": [
        {
          "name": "stderr",
          "output_type": "stream",
          "text": [
            "C:\\Users\\16314\\Anaconda3\\lib\\site-packages\\ipykernel_launcher.py:1: SettingWithCopyWarning: \n",
            "A value is trying to be set on a copy of a slice from a DataFrame\n",
            "\n",
            "See the caveats in the documentation: https://pandas.pydata.org/pandas-docs/stable/user_guide/indexing.html#returning-a-view-versus-a-copy\n",
            "  \"\"\"Entry point for launching an IPython kernel.\n"
          ]
        }
      ],
      "source": [
        "bed_types.drop_duplicates(inplace=True)"
      ]
    },
    {
      "cell_type": "code",
      "execution_count": null,
      "metadata": {
        "id": "59-GdYvbH3tq",
        "outputId": "edda1c90-27ed-4b08-85f1-321a164302ef"
      },
      "outputs": [
        {
          "data": {
            "text/html": [
              "<div>\n",
              "<style scoped>\n",
              "    .dataframe tbody tr th:only-of-type {\n",
              "        vertical-align: middle;\n",
              "    }\n",
              "\n",
              "    .dataframe tbody tr th {\n",
              "        vertical-align: top;\n",
              "    }\n",
              "\n",
              "    .dataframe thead th {\n",
              "        text-align: right;\n",
              "    }\n",
              "</style>\n",
              "<table border=\"1\" class=\"dataframe\">\n",
              "  <thead>\n",
              "    <tr style=\"text-align: right;\">\n",
              "      <th></th>\n",
              "      <th>bed_type</th>\n",
              "    </tr>\n",
              "  </thead>\n",
              "  <tbody>\n",
              "    <tr>\n",
              "      <th>0</th>\n",
              "      <td>Real Bed</td>\n",
              "    </tr>\n",
              "    <tr>\n",
              "      <th>18</th>\n",
              "      <td>Futon</td>\n",
              "    </tr>\n",
              "    <tr>\n",
              "      <th>71</th>\n",
              "      <td>Pull-out Sofa</td>\n",
              "    </tr>\n",
              "    <tr>\n",
              "      <th>308</th>\n",
              "      <td>Airbed</td>\n",
              "    </tr>\n",
              "    <tr>\n",
              "      <th>431</th>\n",
              "      <td>Couch</td>\n",
              "    </tr>\n",
              "  </tbody>\n",
              "</table>\n",
              "</div>"
            ],
            "text/plain": [
              "          bed_type\n",
              "0         Real Bed\n",
              "18           Futon\n",
              "71   Pull-out Sofa\n",
              "308         Airbed\n",
              "431          Couch"
            ]
          },
          "execution_count": 69,
          "metadata": {},
          "output_type": "execute_result"
        }
      ],
      "source": [
        "bed_types.head(5)"
      ]
    },
    {
      "cell_type": "code",
      "execution_count": null,
      "metadata": {
        "id": "RCFo43joH3tq"
      },
      "outputs": [],
      "source": [
        "bed_types.reset_index(inplace=True)"
      ]
    },
    {
      "cell_type": "code",
      "execution_count": null,
      "metadata": {
        "id": "HMn9p-GDH3tq",
        "outputId": "cc52f9e5-4df8-4b5b-c9c0-520e3a036a8a"
      },
      "outputs": [
        {
          "data": {
            "text/html": [
              "<div>\n",
              "<style scoped>\n",
              "    .dataframe tbody tr th:only-of-type {\n",
              "        vertical-align: middle;\n",
              "    }\n",
              "\n",
              "    .dataframe tbody tr th {\n",
              "        vertical-align: top;\n",
              "    }\n",
              "\n",
              "    .dataframe thead th {\n",
              "        text-align: right;\n",
              "    }\n",
              "</style>\n",
              "<table border=\"1\" class=\"dataframe\">\n",
              "  <thead>\n",
              "    <tr style=\"text-align: right;\">\n",
              "      <th></th>\n",
              "      <th>index</th>\n",
              "      <th>bed_type</th>\n",
              "    </tr>\n",
              "  </thead>\n",
              "  <tbody>\n",
              "    <tr>\n",
              "      <th>0</th>\n",
              "      <td>0</td>\n",
              "      <td>Real Bed</td>\n",
              "    </tr>\n",
              "    <tr>\n",
              "      <th>1</th>\n",
              "      <td>18</td>\n",
              "      <td>Futon</td>\n",
              "    </tr>\n",
              "    <tr>\n",
              "      <th>2</th>\n",
              "      <td>71</td>\n",
              "      <td>Pull-out Sofa</td>\n",
              "    </tr>\n",
              "    <tr>\n",
              "      <th>3</th>\n",
              "      <td>308</td>\n",
              "      <td>Airbed</td>\n",
              "    </tr>\n",
              "    <tr>\n",
              "      <th>4</th>\n",
              "      <td>431</td>\n",
              "      <td>Couch</td>\n",
              "    </tr>\n",
              "  </tbody>\n",
              "</table>\n",
              "</div>"
            ],
            "text/plain": [
              "   index       bed_type\n",
              "0      0       Real Bed\n",
              "1     18          Futon\n",
              "2     71  Pull-out Sofa\n",
              "3    308         Airbed\n",
              "4    431          Couch"
            ]
          },
          "execution_count": 71,
          "metadata": {},
          "output_type": "execute_result"
        }
      ],
      "source": [
        "bed_types.head(5)"
      ]
    },
    {
      "cell_type": "code",
      "execution_count": null,
      "metadata": {
        "id": "arXBui6aH3tr"
      },
      "outputs": [],
      "source": [
        "bed_types.reset_index(inplace=True)"
      ]
    },
    {
      "cell_type": "code",
      "execution_count": null,
      "metadata": {
        "id": "Rf8koaYVH3tr",
        "outputId": "7526826b-99ed-4f0b-94b7-bf7768722d67"
      },
      "outputs": [
        {
          "data": {
            "text/html": [
              "<div>\n",
              "<style scoped>\n",
              "    .dataframe tbody tr th:only-of-type {\n",
              "        vertical-align: middle;\n",
              "    }\n",
              "\n",
              "    .dataframe tbody tr th {\n",
              "        vertical-align: top;\n",
              "    }\n",
              "\n",
              "    .dataframe thead th {\n",
              "        text-align: right;\n",
              "    }\n",
              "</style>\n",
              "<table border=\"1\" class=\"dataframe\">\n",
              "  <thead>\n",
              "    <tr style=\"text-align: right;\">\n",
              "      <th></th>\n",
              "      <th>level_0</th>\n",
              "      <th>index</th>\n",
              "      <th>bed_type</th>\n",
              "    </tr>\n",
              "  </thead>\n",
              "  <tbody>\n",
              "    <tr>\n",
              "      <th>0</th>\n",
              "      <td>0</td>\n",
              "      <td>0</td>\n",
              "      <td>Real Bed</td>\n",
              "    </tr>\n",
              "    <tr>\n",
              "      <th>1</th>\n",
              "      <td>1</td>\n",
              "      <td>18</td>\n",
              "      <td>Futon</td>\n",
              "    </tr>\n",
              "    <tr>\n",
              "      <th>2</th>\n",
              "      <td>2</td>\n",
              "      <td>71</td>\n",
              "      <td>Pull-out Sofa</td>\n",
              "    </tr>\n",
              "    <tr>\n",
              "      <th>3</th>\n",
              "      <td>3</td>\n",
              "      <td>308</td>\n",
              "      <td>Airbed</td>\n",
              "    </tr>\n",
              "    <tr>\n",
              "      <th>4</th>\n",
              "      <td>4</td>\n",
              "      <td>431</td>\n",
              "      <td>Couch</td>\n",
              "    </tr>\n",
              "  </tbody>\n",
              "</table>\n",
              "</div>"
            ],
            "text/plain": [
              "   level_0  index       bed_type\n",
              "0        0      0       Real Bed\n",
              "1        1     18          Futon\n",
              "2        2     71  Pull-out Sofa\n",
              "3        3    308         Airbed\n",
              "4        4    431          Couch"
            ]
          },
          "execution_count": 73,
          "metadata": {},
          "output_type": "execute_result"
        }
      ],
      "source": [
        "bed_types.head(5)"
      ]
    },
    {
      "cell_type": "code",
      "execution_count": null,
      "metadata": {
        "id": "_gKyYFWKH3tr",
        "outputId": "ce69d856-ea58-45fd-cbce-93d4e7006a1f"
      },
      "outputs": [
        {
          "name": "stderr",
          "output_type": "stream",
          "text": [
            "C:\\Users\\16314\\Anaconda3\\lib\\site-packages\\pandas\\core\\frame.py:4133: SettingWithCopyWarning: \n",
            "A value is trying to be set on a copy of a slice from a DataFrame\n",
            "\n",
            "See the caveats in the documentation: https://pandas.pydata.org/pandas-docs/stable/user_guide/indexing.html#returning-a-view-versus-a-copy\n",
            "  errors=errors,\n"
          ]
        }
      ],
      "source": [
        "bed_types.rename(columns={'level_0':'bed_type_id'},inplace=True) #Rename The Column"
      ]
    },
    {
      "cell_type": "code",
      "execution_count": null,
      "metadata": {
        "id": "RBpXs6q3H3tr",
        "outputId": "60ff9ae9-e304-4e74-9f77-87ddbc703e2a"
      },
      "outputs": [
        {
          "data": {
            "text/html": [
              "<div>\n",
              "<style scoped>\n",
              "    .dataframe tbody tr th:only-of-type {\n",
              "        vertical-align: middle;\n",
              "    }\n",
              "\n",
              "    .dataframe tbody tr th {\n",
              "        vertical-align: top;\n",
              "    }\n",
              "\n",
              "    .dataframe thead th {\n",
              "        text-align: right;\n",
              "    }\n",
              "</style>\n",
              "<table border=\"1\" class=\"dataframe\">\n",
              "  <thead>\n",
              "    <tr style=\"text-align: right;\">\n",
              "      <th></th>\n",
              "      <th>bed_type_id</th>\n",
              "      <th>index</th>\n",
              "      <th>bed_type</th>\n",
              "    </tr>\n",
              "  </thead>\n",
              "  <tbody>\n",
              "    <tr>\n",
              "      <th>0</th>\n",
              "      <td>0</td>\n",
              "      <td>0</td>\n",
              "      <td>Real Bed</td>\n",
              "    </tr>\n",
              "    <tr>\n",
              "      <th>1</th>\n",
              "      <td>1</td>\n",
              "      <td>18</td>\n",
              "      <td>Futon</td>\n",
              "    </tr>\n",
              "    <tr>\n",
              "      <th>2</th>\n",
              "      <td>2</td>\n",
              "      <td>71</td>\n",
              "      <td>Pull-out Sofa</td>\n",
              "    </tr>\n",
              "    <tr>\n",
              "      <th>3</th>\n",
              "      <td>3</td>\n",
              "      <td>308</td>\n",
              "      <td>Airbed</td>\n",
              "    </tr>\n",
              "    <tr>\n",
              "      <th>4</th>\n",
              "      <td>4</td>\n",
              "      <td>431</td>\n",
              "      <td>Couch</td>\n",
              "    </tr>\n",
              "  </tbody>\n",
              "</table>\n",
              "</div>"
            ],
            "text/plain": [
              "   bed_type_id  index       bed_type\n",
              "0            0      0       Real Bed\n",
              "1            1     18          Futon\n",
              "2            2     71  Pull-out Sofa\n",
              "3            3    308         Airbed\n",
              "4            4    431          Couch"
            ]
          },
          "execution_count": 75,
          "metadata": {},
          "output_type": "execute_result"
        }
      ],
      "source": [
        "bed_types"
      ]
    },
    {
      "cell_type": "code",
      "execution_count": null,
      "metadata": {
        "id": "YU1kMGs0H3tr",
        "outputId": "a7977e04-bf58-407a-dc06-6e88b34c36ae"
      },
      "outputs": [
        {
          "name": "stderr",
          "output_type": "stream",
          "text": [
            "C:\\Users\\16314\\Anaconda3\\lib\\site-packages\\pandas\\core\\frame.py:3997: SettingWithCopyWarning: \n",
            "A value is trying to be set on a copy of a slice from a DataFrame\n",
            "\n",
            "See the caveats in the documentation: https://pandas.pydata.org/pandas-docs/stable/user_guide/indexing.html#returning-a-view-versus-a-copy\n",
            "  errors=errors,\n"
          ]
        }
      ],
      "source": [
        "bed_types.drop(['index'],1,inplace=True)"
      ]
    },
    {
      "cell_type": "code",
      "execution_count": null,
      "metadata": {
        "id": "7phj3dbJH3ts",
        "outputId": "ecdf0d39-621e-442a-d40e-645c01933556"
      },
      "outputs": [
        {
          "data": {
            "text/html": [
              "<div>\n",
              "<style scoped>\n",
              "    .dataframe tbody tr th:only-of-type {\n",
              "        vertical-align: middle;\n",
              "    }\n",
              "\n",
              "    .dataframe tbody tr th {\n",
              "        vertical-align: top;\n",
              "    }\n",
              "\n",
              "    .dataframe thead th {\n",
              "        text-align: right;\n",
              "    }\n",
              "</style>\n",
              "<table border=\"1\" class=\"dataframe\">\n",
              "  <thead>\n",
              "    <tr style=\"text-align: right;\">\n",
              "      <th></th>\n",
              "      <th>bed_type_id</th>\n",
              "      <th>bed_type</th>\n",
              "    </tr>\n",
              "  </thead>\n",
              "  <tbody>\n",
              "    <tr>\n",
              "      <th>0</th>\n",
              "      <td>0</td>\n",
              "      <td>Real Bed</td>\n",
              "    </tr>\n",
              "    <tr>\n",
              "      <th>1</th>\n",
              "      <td>1</td>\n",
              "      <td>Futon</td>\n",
              "    </tr>\n",
              "    <tr>\n",
              "      <th>2</th>\n",
              "      <td>2</td>\n",
              "      <td>Pull-out Sofa</td>\n",
              "    </tr>\n",
              "    <tr>\n",
              "      <th>3</th>\n",
              "      <td>3</td>\n",
              "      <td>Airbed</td>\n",
              "    </tr>\n",
              "    <tr>\n",
              "      <th>4</th>\n",
              "      <td>4</td>\n",
              "      <td>Couch</td>\n",
              "    </tr>\n",
              "  </tbody>\n",
              "</table>\n",
              "</div>"
            ],
            "text/plain": [
              "   bed_type_id       bed_type\n",
              "0            0       Real Bed\n",
              "1            1          Futon\n",
              "2            2  Pull-out Sofa\n",
              "3            3         Airbed\n",
              "4            4          Couch"
            ]
          },
          "execution_count": 77,
          "metadata": {},
          "output_type": "execute_result"
        }
      ],
      "source": [
        "bed_types.head()"
      ]
    },
    {
      "cell_type": "code",
      "execution_count": null,
      "metadata": {
        "id": "dbcPcr7-H3ts"
      },
      "outputs": [],
      "source": [
        "listings = pd.merge(listings,bed_types,how='left',left_on='bed_type',right_on='bed_type')"
      ]
    },
    {
      "cell_type": "code",
      "execution_count": null,
      "metadata": {
        "id": "pWN5k8fJH3ts",
        "outputId": "2089bbdf-1227-4c66-8924-d9187c3206c7"
      },
      "outputs": [
        {
          "data": {
            "text/plain": [
              "Index(['id', 'listing_url', 'name', 'summary', 'space', 'description',\n",
              "       'neighborhood_overview', 'notes', 'transit', 'host_id', 'street',\n",
              "       'city', 'state', 'zipcode', 'country_code', 'latitude', 'longitude',\n",
              "       'is_location_exact', 'property_type', 'room_type', 'accommodates',\n",
              "       'bathrooms', 'bedrooms', 'beds', 'bed_type', 'amenities', 'square_feet',\n",
              "       'price', 'weekly_price', 'monthly_price', 'security_deposit',\n",
              "       'cleaning_fee', 'guests_included', 'extra_people', 'minimum_nights',\n",
              "       'maximum_nights', 'calendar_updated', 'has_availability',\n",
              "       'availability_30', 'availability_60', 'availability_90',\n",
              "       'availability_365', 'calendar_last_scraped', 'number_of_reviews',\n",
              "       'first_review', 'last_review', 'review_scores_rating',\n",
              "       'review_scores_accuracy', 'review_scores_cleanliness',\n",
              "       'review_scores_checkin', 'review_scores_communication',\n",
              "       'review_scores_location', 'review_scores_value', 'requires_license',\n",
              "       'license', 'jurisdiction_names', 'instant_bookable',\n",
              "       'cancellation_policy', 'require_guest_profile_picture',\n",
              "       'require_guest_phone_verification', 'calculated_host_listings_count',\n",
              "       'reviews_per_month', 'location_id', 'bed_type_id'],\n",
              "      dtype='object')"
            ]
          },
          "execution_count": 79,
          "metadata": {},
          "output_type": "execute_result"
        }
      ],
      "source": [
        "listings.columns"
      ]
    },
    {
      "cell_type": "code",
      "execution_count": null,
      "metadata": {
        "id": "XAUlOGz7H3ts"
      },
      "outputs": [],
      "source": [
        "listings.drop(columns=['bed_type'],inplace=True)"
      ]
    },
    {
      "cell_type": "code",
      "execution_count": null,
      "metadata": {
        "id": "mR35lm8OH3ts",
        "outputId": "73d0b316-ee76-4706-9c6b-ec97a69833c6"
      },
      "outputs": [
        {
          "data": {
            "text/plain": [
              "Index(['id', 'listing_url', 'name', 'summary', 'space', 'description',\n",
              "       'neighborhood_overview', 'notes', 'transit', 'host_id', 'street',\n",
              "       'city', 'state', 'zipcode', 'country_code', 'latitude', 'longitude',\n",
              "       'is_location_exact', 'property_type', 'room_type', 'accommodates',\n",
              "       'bathrooms', 'bedrooms', 'beds', 'amenities', 'square_feet', 'price',\n",
              "       'weekly_price', 'monthly_price', 'security_deposit', 'cleaning_fee',\n",
              "       'guests_included', 'extra_people', 'minimum_nights', 'maximum_nights',\n",
              "       'calendar_updated', 'has_availability', 'availability_30',\n",
              "       'availability_60', 'availability_90', 'availability_365',\n",
              "       'calendar_last_scraped', 'number_of_reviews', 'first_review',\n",
              "       'last_review', 'review_scores_rating', 'review_scores_accuracy',\n",
              "       'review_scores_cleanliness', 'review_scores_checkin',\n",
              "       'review_scores_communication', 'review_scores_location',\n",
              "       'review_scores_value', 'requires_license', 'license',\n",
              "       'jurisdiction_names', 'instant_bookable', 'cancellation_policy',\n",
              "       'require_guest_profile_picture', 'require_guest_phone_verification',\n",
              "       'calculated_host_listings_count', 'reviews_per_month', 'location_id',\n",
              "       'bed_type_id'],\n",
              "      dtype='object')"
            ]
          },
          "execution_count": 81,
          "metadata": {},
          "output_type": "execute_result"
        }
      ],
      "source": [
        "listings.columns"
      ]
    },
    {
      "cell_type": "markdown",
      "metadata": {
        "id": "RSgBgGe8H3tt"
      },
      "source": [
        "## Accomodation Table"
      ]
    },
    {
      "cell_type": "code",
      "execution_count": null,
      "metadata": {
        "id": "RjG0eNeyH3tt"
      },
      "outputs": [],
      "source": [
        "accomodations = listings[['id','accommodates', 'bathrooms', 'bedrooms', 'beds']]"
      ]
    },
    {
      "cell_type": "code",
      "execution_count": null,
      "metadata": {
        "id": "GKO2CcmWH3tt"
      },
      "outputs": [],
      "source": [
        "listings.drop(columns=['accommodates', 'bathrooms', 'bedrooms', 'beds'],inplace=True)"
      ]
    },
    {
      "cell_type": "markdown",
      "metadata": {
        "id": "cv5zWWSoH3tt"
      },
      "source": [
        "# Property Type:"
      ]
    },
    {
      "cell_type": "code",
      "execution_count": null,
      "metadata": {
        "id": "wBENLb0qH3tt",
        "outputId": "8a7754d6-81f5-43ba-f478-94378e8b79b3"
      },
      "outputs": [
        {
          "data": {
            "text/plain": [
              "17"
            ]
          },
          "execution_count": 84,
          "metadata": {},
          "output_type": "execute_result"
        }
      ],
      "source": [
        "len(listings.property_type.unique())"
      ]
    },
    {
      "cell_type": "code",
      "execution_count": null,
      "metadata": {
        "id": "wGLPXB3vH3tt"
      },
      "outputs": [],
      "source": [
        "property_type = listings[['property_type']]"
      ]
    },
    {
      "cell_type": "code",
      "execution_count": null,
      "metadata": {
        "id": "0vMafU2nH3tu",
        "outputId": "763ab7c5-f33d-4433-fd8a-5373c6efdfbb"
      },
      "outputs": [
        {
          "name": "stderr",
          "output_type": "stream",
          "text": [
            "C:\\Users\\16314\\Anaconda3\\lib\\site-packages\\ipykernel_launcher.py:1: SettingWithCopyWarning: \n",
            "A value is trying to be set on a copy of a slice from a DataFrame\n",
            "\n",
            "See the caveats in the documentation: https://pandas.pydata.org/pandas-docs/stable/user_guide/indexing.html#returning-a-view-versus-a-copy\n",
            "  \"\"\"Entry point for launching an IPython kernel.\n"
          ]
        }
      ],
      "source": [
        "property_type.drop_duplicates(inplace=True)"
      ]
    },
    {
      "cell_type": "code",
      "execution_count": null,
      "metadata": {
        "id": "jJiJo_2WH3tu"
      },
      "outputs": [],
      "source": [
        "property_type.reset_index(inplace=True)\n",
        "property_type.reset_index(inplace=True)"
      ]
    },
    {
      "cell_type": "code",
      "execution_count": null,
      "metadata": {
        "id": "DXHtHdFzH3tu"
      },
      "outputs": [],
      "source": [
        "property_type = property_type.rename(columns={'level_0':'property_type_id'})"
      ]
    },
    {
      "cell_type": "code",
      "execution_count": null,
      "metadata": {
        "id": "C6VaIEzJH3tu"
      },
      "outputs": [],
      "source": [
        "property_type  = property_type.drop('index',1)"
      ]
    },
    {
      "cell_type": "code",
      "execution_count": null,
      "metadata": {
        "id": "UCe2yPbWH3tu",
        "outputId": "b12d786f-3ec1-4637-9449-b5670010c897"
      },
      "outputs": [
        {
          "data": {
            "text/html": [
              "<div>\n",
              "<style scoped>\n",
              "    .dataframe tbody tr th:only-of-type {\n",
              "        vertical-align: middle;\n",
              "    }\n",
              "\n",
              "    .dataframe tbody tr th {\n",
              "        vertical-align: top;\n",
              "    }\n",
              "\n",
              "    .dataframe thead th {\n",
              "        text-align: right;\n",
              "    }\n",
              "</style>\n",
              "<table border=\"1\" class=\"dataframe\">\n",
              "  <thead>\n",
              "    <tr style=\"text-align: right;\">\n",
              "      <th></th>\n",
              "      <th>property_type_id</th>\n",
              "      <th>property_type</th>\n",
              "    </tr>\n",
              "  </thead>\n",
              "  <tbody>\n",
              "    <tr>\n",
              "      <th>0</th>\n",
              "      <td>0</td>\n",
              "      <td>Apartment</td>\n",
              "    </tr>\n",
              "    <tr>\n",
              "      <th>1</th>\n",
              "      <td>1</td>\n",
              "      <td>House</td>\n",
              "    </tr>\n",
              "    <tr>\n",
              "      <th>2</th>\n",
              "      <td>2</td>\n",
              "      <td>Cabin</td>\n",
              "    </tr>\n",
              "    <tr>\n",
              "      <th>3</th>\n",
              "      <td>3</td>\n",
              "      <td>Condominium</td>\n",
              "    </tr>\n",
              "    <tr>\n",
              "      <th>4</th>\n",
              "      <td>4</td>\n",
              "      <td>Camper/RV</td>\n",
              "    </tr>\n",
              "  </tbody>\n",
              "</table>\n",
              "</div>"
            ],
            "text/plain": [
              "   property_type_id property_type\n",
              "0                 0     Apartment\n",
              "1                 1         House\n",
              "2                 2         Cabin\n",
              "3                 3   Condominium\n",
              "4                 4     Camper/RV"
            ]
          },
          "execution_count": 90,
          "metadata": {},
          "output_type": "execute_result"
        }
      ],
      "source": [
        "property_type.head(5)"
      ]
    },
    {
      "cell_type": "code",
      "execution_count": null,
      "metadata": {
        "id": "zuz2Hb_KH3tu"
      },
      "outputs": [],
      "source": [
        "listings = pd.merge(listings,property_type,how='left',left_on='property_type',right_on='property_type')"
      ]
    },
    {
      "cell_type": "code",
      "execution_count": null,
      "metadata": {
        "id": "bWM5m48HH3tv",
        "outputId": "54056c8a-13b1-4971-8119-651293f4c7b5"
      },
      "outputs": [
        {
          "data": {
            "text/plain": [
              "Index(['id', 'listing_url', 'name', 'summary', 'space', 'description',\n",
              "       'neighborhood_overview', 'notes', 'transit', 'host_id', 'street',\n",
              "       'city', 'state', 'zipcode', 'country_code', 'latitude', 'longitude',\n",
              "       'is_location_exact', 'property_type', 'room_type', 'amenities',\n",
              "       'square_feet', 'price', 'weekly_price', 'monthly_price',\n",
              "       'security_deposit', 'cleaning_fee', 'guests_included', 'extra_people',\n",
              "       'minimum_nights', 'maximum_nights', 'calendar_updated',\n",
              "       'has_availability', 'availability_30', 'availability_60',\n",
              "       'availability_90', 'availability_365', 'calendar_last_scraped',\n",
              "       'number_of_reviews', 'first_review', 'last_review',\n",
              "       'review_scores_rating', 'review_scores_accuracy',\n",
              "       'review_scores_cleanliness', 'review_scores_checkin',\n",
              "       'review_scores_communication', 'review_scores_location',\n",
              "       'review_scores_value', 'requires_license', 'license',\n",
              "       'jurisdiction_names', 'instant_bookable', 'cancellation_policy',\n",
              "       'require_guest_profile_picture', 'require_guest_phone_verification',\n",
              "       'calculated_host_listings_count', 'reviews_per_month', 'location_id',\n",
              "       'bed_type_id', 'property_type_id'],\n",
              "      dtype='object')"
            ]
          },
          "execution_count": 92,
          "metadata": {},
          "output_type": "execute_result"
        }
      ],
      "source": [
        "listings.columns"
      ]
    },
    {
      "cell_type": "code",
      "execution_count": null,
      "metadata": {
        "id": "qfuS-w9bH3tv"
      },
      "outputs": [],
      "source": [
        "listings.drop('property_type',1,inplace=True)"
      ]
    },
    {
      "cell_type": "code",
      "execution_count": null,
      "metadata": {
        "id": "1yDo6ikCH3tv",
        "outputId": "93f566f5-5869-4c47-d114-26204f485343"
      },
      "outputs": [
        {
          "data": {
            "text/plain": [
              "Index(['id', 'listing_url', 'name', 'summary', 'space', 'description',\n",
              "       'neighborhood_overview', 'notes', 'transit', 'host_id', 'street',\n",
              "       'city', 'state', 'zipcode', 'country_code', 'latitude', 'longitude',\n",
              "       'is_location_exact', 'room_type', 'amenities', 'square_feet', 'price',\n",
              "       'weekly_price', 'monthly_price', 'security_deposit', 'cleaning_fee',\n",
              "       'guests_included', 'extra_people', 'minimum_nights', 'maximum_nights',\n",
              "       'calendar_updated', 'has_availability', 'availability_30',\n",
              "       'availability_60', 'availability_90', 'availability_365',\n",
              "       'calendar_last_scraped', 'number_of_reviews', 'first_review',\n",
              "       'last_review', 'review_scores_rating', 'review_scores_accuracy',\n",
              "       'review_scores_cleanliness', 'review_scores_checkin',\n",
              "       'review_scores_communication', 'review_scores_location',\n",
              "       'review_scores_value', 'requires_license', 'license',\n",
              "       'jurisdiction_names', 'instant_bookable', 'cancellation_policy',\n",
              "       'require_guest_profile_picture', 'require_guest_phone_verification',\n",
              "       'calculated_host_listings_count', 'reviews_per_month', 'location_id',\n",
              "       'bed_type_id', 'property_type_id'],\n",
              "      dtype='object')"
            ]
          },
          "execution_count": 94,
          "metadata": {},
          "output_type": "execute_result"
        }
      ],
      "source": [
        "listings.columns"
      ]
    },
    {
      "cell_type": "markdown",
      "metadata": {
        "id": "aorHnAZ6H3tv"
      },
      "source": [
        "### Room Type"
      ]
    },
    {
      "cell_type": "code",
      "execution_count": null,
      "metadata": {
        "id": "lTnbv909H3tv",
        "outputId": "771f1c00-7d55-4721-d5be-cae4b8b46f2c"
      },
      "outputs": [
        {
          "data": {
            "text/plain": [
              "3"
            ]
          },
          "execution_count": 95,
          "metadata": {},
          "output_type": "execute_result"
        }
      ],
      "source": [
        "len(listings.room_type.unique())"
      ]
    },
    {
      "cell_type": "code",
      "execution_count": null,
      "metadata": {
        "id": "n187N6k0H3tv"
      },
      "outputs": [],
      "source": [
        "room_type = listings[['room_type']]"
      ]
    },
    {
      "cell_type": "code",
      "execution_count": null,
      "metadata": {
        "id": "Rq13CvdCH3tw",
        "outputId": "c0019503-fe33-4363-9023-9240e3406f4d"
      },
      "outputs": [
        {
          "name": "stderr",
          "output_type": "stream",
          "text": [
            "C:\\Users\\16314\\Anaconda3\\lib\\site-packages\\ipykernel_launcher.py:1: SettingWithCopyWarning: \n",
            "A value is trying to be set on a copy of a slice from a DataFrame\n",
            "\n",
            "See the caveats in the documentation: https://pandas.pydata.org/pandas-docs/stable/user_guide/indexing.html#returning-a-view-versus-a-copy\n",
            "  \"\"\"Entry point for launching an IPython kernel.\n"
          ]
        }
      ],
      "source": [
        "room_type.drop_duplicates(inplace=True)"
      ]
    },
    {
      "cell_type": "code",
      "execution_count": null,
      "metadata": {
        "id": "kZuGWZuLH3tw"
      },
      "outputs": [],
      "source": [
        "room_type = room_type.reset_index()\n",
        "room_type = room_type.reset_index()"
      ]
    },
    {
      "cell_type": "code",
      "execution_count": null,
      "metadata": {
        "id": "VGIO870TH3tw"
      },
      "outputs": [],
      "source": [
        "room_type = room_type.rename(columns={'level_0':'room_type_id'})"
      ]
    },
    {
      "cell_type": "code",
      "execution_count": null,
      "metadata": {
        "id": "6E7mGU0HH3tw"
      },
      "outputs": [],
      "source": [
        "room_type = room_type.drop('index',1)"
      ]
    },
    {
      "cell_type": "code",
      "execution_count": null,
      "metadata": {
        "id": "BFczMKzaH3tw",
        "outputId": "0a36ecf7-d3c9-498d-82a5-453f3f8eb9d0"
      },
      "outputs": [
        {
          "data": {
            "text/html": [
              "<div>\n",
              "<style scoped>\n",
              "    .dataframe tbody tr th:only-of-type {\n",
              "        vertical-align: middle;\n",
              "    }\n",
              "\n",
              "    .dataframe tbody tr th {\n",
              "        vertical-align: top;\n",
              "    }\n",
              "\n",
              "    .dataframe thead th {\n",
              "        text-align: right;\n",
              "    }\n",
              "</style>\n",
              "<table border=\"1\" class=\"dataframe\">\n",
              "  <thead>\n",
              "    <tr style=\"text-align: right;\">\n",
              "      <th></th>\n",
              "      <th>room_type_id</th>\n",
              "      <th>room_type</th>\n",
              "    </tr>\n",
              "  </thead>\n",
              "  <tbody>\n",
              "    <tr>\n",
              "      <th>0</th>\n",
              "      <td>0</td>\n",
              "      <td>Entire home/apt</td>\n",
              "    </tr>\n",
              "    <tr>\n",
              "      <th>1</th>\n",
              "      <td>1</td>\n",
              "      <td>Private room</td>\n",
              "    </tr>\n",
              "    <tr>\n",
              "      <th>2</th>\n",
              "      <td>2</td>\n",
              "      <td>Shared room</td>\n",
              "    </tr>\n",
              "  </tbody>\n",
              "</table>\n",
              "</div>"
            ],
            "text/plain": [
              "   room_type_id        room_type\n",
              "0             0  Entire home/apt\n",
              "1             1     Private room\n",
              "2             2      Shared room"
            ]
          },
          "execution_count": 101,
          "metadata": {},
          "output_type": "execute_result"
        }
      ],
      "source": [
        "room_type"
      ]
    },
    {
      "cell_type": "code",
      "execution_count": null,
      "metadata": {
        "id": "qW8HK_zCH3tw"
      },
      "outputs": [],
      "source": [
        "listings = pd.merge(listings,room_type,how='left',left_on='room_type',right_on='room_type')"
      ]
    },
    {
      "cell_type": "code",
      "execution_count": null,
      "metadata": {
        "id": "sbJ87lHJH3tx",
        "outputId": "2e3b126a-a847-4556-e9f5-a78ecc99b9de"
      },
      "outputs": [
        {
          "data": {
            "text/plain": [
              "Index(['id', 'listing_url', 'name', 'summary', 'space', 'description',\n",
              "       'neighborhood_overview', 'notes', 'transit', 'host_id', 'street',\n",
              "       'city', 'state', 'zipcode', 'country_code', 'latitude', 'longitude',\n",
              "       'is_location_exact', 'room_type', 'amenities', 'square_feet', 'price',\n",
              "       'weekly_price', 'monthly_price', 'security_deposit', 'cleaning_fee',\n",
              "       'guests_included', 'extra_people', 'minimum_nights', 'maximum_nights',\n",
              "       'calendar_updated', 'has_availability', 'availability_30',\n",
              "       'availability_60', 'availability_90', 'availability_365',\n",
              "       'calendar_last_scraped', 'number_of_reviews', 'first_review',\n",
              "       'last_review', 'review_scores_rating', 'review_scores_accuracy',\n",
              "       'review_scores_cleanliness', 'review_scores_checkin',\n",
              "       'review_scores_communication', 'review_scores_location',\n",
              "       'review_scores_value', 'requires_license', 'license',\n",
              "       'jurisdiction_names', 'instant_bookable', 'cancellation_policy',\n",
              "       'require_guest_profile_picture', 'require_guest_phone_verification',\n",
              "       'calculated_host_listings_count', 'reviews_per_month', 'location_id',\n",
              "       'bed_type_id', 'property_type_id', 'room_type_id'],\n",
              "      dtype='object')"
            ]
          },
          "execution_count": 103,
          "metadata": {},
          "output_type": "execute_result"
        }
      ],
      "source": [
        "listings.columns"
      ]
    },
    {
      "cell_type": "code",
      "execution_count": null,
      "metadata": {
        "id": "cI5KV2lyH3tx"
      },
      "outputs": [],
      "source": [
        "listings.drop('room_type',1,inplace=True)"
      ]
    },
    {
      "cell_type": "code",
      "execution_count": null,
      "metadata": {
        "id": "A4AsKW8XH3tx",
        "outputId": "61a689a6-71f7-4b73-9787-09f421ef8a2e"
      },
      "outputs": [
        {
          "data": {
            "text/plain": [
              "Index(['id', 'listing_url', 'name', 'summary', 'space', 'description',\n",
              "       'neighborhood_overview', 'notes', 'transit', 'host_id', 'street',\n",
              "       'city', 'state', 'zipcode', 'country_code', 'latitude', 'longitude',\n",
              "       'is_location_exact', 'amenities', 'square_feet', 'price',\n",
              "       'weekly_price', 'monthly_price', 'security_deposit', 'cleaning_fee',\n",
              "       'guests_included', 'extra_people', 'minimum_nights', 'maximum_nights',\n",
              "       'calendar_updated', 'has_availability', 'availability_30',\n",
              "       'availability_60', 'availability_90', 'availability_365',\n",
              "       'calendar_last_scraped', 'number_of_reviews', 'first_review',\n",
              "       'last_review', 'review_scores_rating', 'review_scores_accuracy',\n",
              "       'review_scores_cleanliness', 'review_scores_checkin',\n",
              "       'review_scores_communication', 'review_scores_location',\n",
              "       'review_scores_value', 'requires_license', 'license',\n",
              "       'jurisdiction_names', 'instant_bookable', 'cancellation_policy',\n",
              "       'require_guest_profile_picture', 'require_guest_phone_verification',\n",
              "       'calculated_host_listings_count', 'reviews_per_month', 'location_id',\n",
              "       'bed_type_id', 'property_type_id', 'room_type_id'],\n",
              "      dtype='object')"
            ]
          },
          "execution_count": 105,
          "metadata": {},
          "output_type": "execute_result"
        }
      ],
      "source": [
        "listings.columns"
      ]
    },
    {
      "cell_type": "code",
      "execution_count": null,
      "metadata": {
        "id": "cqtQ04V4H3tx"
      },
      "outputs": [],
      "source": [
        "#Note From Milena"
      ]
    },
    {
      "cell_type": "markdown",
      "metadata": {
        "id": "WeQERMH5H3tx"
      },
      "source": [
        "### Cancellation Policy"
      ]
    },
    {
      "cell_type": "code",
      "execution_count": null,
      "metadata": {
        "id": "8indbGS5H3tx",
        "outputId": "e627153c-7bd2-461b-c178-975e2a91fb64"
      },
      "outputs": [
        {
          "data": {
            "text/plain": [
              "3"
            ]
          },
          "execution_count": 107,
          "metadata": {},
          "output_type": "execute_result"
        }
      ],
      "source": [
        "len(listings.cancellation_policy.unique())"
      ]
    },
    {
      "cell_type": "code",
      "execution_count": null,
      "metadata": {
        "id": "9Rib6esRH3ty"
      },
      "outputs": [],
      "source": [
        "cancellation_policy = listings[['cancellation_policy']]"
      ]
    },
    {
      "cell_type": "code",
      "execution_count": null,
      "metadata": {
        "id": "5DytyUASH3ty"
      },
      "outputs": [],
      "source": [
        "cancellation_policy = cancellation_policy.drop_duplicates()"
      ]
    },
    {
      "cell_type": "code",
      "execution_count": null,
      "metadata": {
        "id": "LygPVY_qH3ty"
      },
      "outputs": [],
      "source": [
        "cancellation_policy = cancellation_policy.reset_index()\n",
        "cancellation_policy = cancellation_policy.reset_index()"
      ]
    },
    {
      "cell_type": "code",
      "execution_count": null,
      "metadata": {
        "id": "yaT_dQ1bH3ty"
      },
      "outputs": [],
      "source": [
        "cancellation_policy = cancellation_policy.rename(columns={'level_0':'cancellation_policy_id'})"
      ]
    },
    {
      "cell_type": "code",
      "execution_count": null,
      "metadata": {
        "id": "leiZG2Q8H3ty",
        "outputId": "6b1d5183-a90c-4856-b0f1-34e417ca5d20"
      },
      "outputs": [
        {
          "data": {
            "text/html": [
              "<div>\n",
              "<style scoped>\n",
              "    .dataframe tbody tr th:only-of-type {\n",
              "        vertical-align: middle;\n",
              "    }\n",
              "\n",
              "    .dataframe tbody tr th {\n",
              "        vertical-align: top;\n",
              "    }\n",
              "\n",
              "    .dataframe thead th {\n",
              "        text-align: right;\n",
              "    }\n",
              "</style>\n",
              "<table border=\"1\" class=\"dataframe\">\n",
              "  <thead>\n",
              "    <tr style=\"text-align: right;\">\n",
              "      <th></th>\n",
              "      <th>cancellation_policy_id</th>\n",
              "      <th>cancellation_policy</th>\n",
              "    </tr>\n",
              "  </thead>\n",
              "  <tbody>\n",
              "    <tr>\n",
              "      <th>0</th>\n",
              "      <td>0</td>\n",
              "      <td>moderate</td>\n",
              "    </tr>\n",
              "    <tr>\n",
              "      <th>1</th>\n",
              "      <td>1</td>\n",
              "      <td>strict</td>\n",
              "    </tr>\n",
              "    <tr>\n",
              "      <th>2</th>\n",
              "      <td>2</td>\n",
              "      <td>flexible</td>\n",
              "    </tr>\n",
              "  </tbody>\n",
              "</table>\n",
              "</div>"
            ],
            "text/plain": [
              "   cancellation_policy_id cancellation_policy\n",
              "0                       0            moderate\n",
              "1                       1              strict\n",
              "2                       2            flexible"
            ]
          },
          "execution_count": 112,
          "metadata": {},
          "output_type": "execute_result"
        }
      ],
      "source": [
        "cancellation_policy.drop('index',1)"
      ]
    },
    {
      "cell_type": "code",
      "execution_count": null,
      "metadata": {
        "id": "Q9tjF7etH3ty"
      },
      "outputs": [],
      "source": [
        "listings = pd.merge(listings,cancellation_policy,how='left',left_on='cancellation_policy',right_on='cancellation_policy')"
      ]
    },
    {
      "cell_type": "code",
      "execution_count": null,
      "metadata": {
        "id": "GktFVeAmH3tz"
      },
      "outputs": [],
      "source": [
        "listings.drop('cancellation_policy',1,inplace=True)"
      ]
    },
    {
      "cell_type": "code",
      "execution_count": null,
      "metadata": {
        "id": "ggDnh356H3tz",
        "outputId": "cd95fe0a-eaa3-4777-9d64-56890adc5506"
      },
      "outputs": [
        {
          "data": {
            "text/plain": [
              "Index(['id', 'listing_url', 'name', 'summary', 'space', 'description',\n",
              "       'neighborhood_overview', 'notes', 'transit', 'host_id', 'street',\n",
              "       'city', 'state', 'zipcode', 'country_code', 'latitude', 'longitude',\n",
              "       'is_location_exact', 'amenities', 'square_feet', 'price',\n",
              "       'weekly_price', 'monthly_price', 'security_deposit', 'cleaning_fee',\n",
              "       'guests_included', 'extra_people', 'minimum_nights', 'maximum_nights',\n",
              "       'calendar_updated', 'has_availability', 'availability_30',\n",
              "       'availability_60', 'availability_90', 'availability_365',\n",
              "       'calendar_last_scraped', 'number_of_reviews', 'first_review',\n",
              "       'last_review', 'review_scores_rating', 'review_scores_accuracy',\n",
              "       'review_scores_cleanliness', 'review_scores_checkin',\n",
              "       'review_scores_communication', 'review_scores_location',\n",
              "       'review_scores_value', 'requires_license', 'license',\n",
              "       'jurisdiction_names', 'instant_bookable',\n",
              "       'require_guest_profile_picture', 'require_guest_phone_verification',\n",
              "       'calculated_host_listings_count', 'reviews_per_month', 'location_id',\n",
              "       'bed_type_id', 'property_type_id', 'room_type_id',\n",
              "       'cancellation_policy_id', 'index'],\n",
              "      dtype='object')"
            ]
          },
          "execution_count": 115,
          "metadata": {},
          "output_type": "execute_result"
        }
      ],
      "source": [
        "listings.columns"
      ]
    },
    {
      "cell_type": "code",
      "execution_count": null,
      "metadata": {
        "id": "UkWTtjyCH3tz"
      },
      "outputs": [],
      "source": [
        "#Dropping Unnecessary Columns"
      ]
    },
    {
      "cell_type": "code",
      "execution_count": null,
      "metadata": {
        "id": "ykYeQh6YH3tz"
      },
      "outputs": [],
      "source": [
        "listings.drop('calendar_last_scraped',1,inplace=True)"
      ]
    },
    {
      "cell_type": "markdown",
      "metadata": {
        "id": "shIdbj2YH3tz"
      },
      "source": [
        "## Cost"
      ]
    },
    {
      "cell_type": "code",
      "execution_count": null,
      "metadata": {
        "id": "WjPlsJVMH3tz"
      },
      "outputs": [],
      "source": [
        "cost = listings[['id','price',\n",
        "       'weekly_price', 'monthly_price', 'security_deposit', 'cleaning_fee',\n",
        "       'guests_included', 'extra_people']]"
      ]
    },
    {
      "cell_type": "code",
      "execution_count": null,
      "metadata": {
        "id": "jgGzpa9SH3t0"
      },
      "outputs": [],
      "source": [
        "listings.drop(columns=['price',\n",
        "       'weekly_price', 'monthly_price', 'security_deposit', 'cleaning_fee',\n",
        "       'guests_included', 'extra_people'],inplace=True)"
      ]
    },
    {
      "cell_type": "markdown",
      "metadata": {
        "id": "t8SKXA-zH3t0"
      },
      "source": [
        "### Review Scores"
      ]
    },
    {
      "cell_type": "code",
      "execution_count": null,
      "metadata": {
        "id": "zC7-cVqhH3t0"
      },
      "outputs": [],
      "source": [
        "review_scores = listings[['id','number_of_reviews',\n",
        "       'first_review', 'last_review', 'review_scores_rating',\n",
        "       'review_scores_accuracy', 'review_scores_cleanliness',\n",
        "       'review_scores_checkin', 'review_scores_communication',\n",
        "       'review_scores_location', 'review_scores_value']]"
      ]
    },
    {
      "cell_type": "code",
      "execution_count": null,
      "metadata": {
        "id": "l_NG4t4fH3t0"
      },
      "outputs": [],
      "source": [
        "listings.drop(columns=['number_of_reviews',\n",
        "       'first_review', 'last_review', 'review_scores_rating',\n",
        "       'review_scores_accuracy', 'review_scores_cleanliness',\n",
        "       'review_scores_checkin', 'review_scores_communication',\n",
        "       'review_scores_location', 'review_scores_value'],inplace=True)"
      ]
    },
    {
      "cell_type": "markdown",
      "metadata": {
        "id": "T0ZAPI35H3t0"
      },
      "source": [
        "## Availablity"
      ]
    },
    {
      "cell_type": "code",
      "execution_count": null,
      "metadata": {
        "id": "h4z5nOBPH3t0"
      },
      "outputs": [],
      "source": [
        "availablity  = listings[['id','has_availability',\n",
        "       'availability_30', 'availability_60', 'availability_90',\n",
        "       'availability_365','instant_bookable']]"
      ]
    },
    {
      "cell_type": "code",
      "execution_count": null,
      "metadata": {
        "id": "tj4L4wN4H3t1"
      },
      "outputs": [],
      "source": [
        "listings.drop(columns=['has_availability',\n",
        "       'availability_30', 'availability_60', 'availability_90',\n",
        "       'availability_365','instant_bookable'],inplace=True)"
      ]
    },
    {
      "cell_type": "code",
      "execution_count": null,
      "metadata": {
        "id": "GLXDgOprH3t1",
        "outputId": "38495a60-5b44-4cac-9ae2-7741033b3183"
      },
      "outputs": [
        {
          "data": {
            "text/plain": [
              "Index(['id', 'listing_url', 'name', 'summary', 'space', 'description',\n",
              "       'neighborhood_overview', 'notes', 'transit', 'host_id', 'street',\n",
              "       'city', 'state', 'zipcode', 'country_code', 'latitude', 'longitude',\n",
              "       'is_location_exact', 'amenities', 'square_feet', 'minimum_nights',\n",
              "       'maximum_nights', 'calendar_updated', 'requires_license', 'license',\n",
              "       'jurisdiction_names', 'require_guest_profile_picture',\n",
              "       'require_guest_phone_verification', 'calculated_host_listings_count',\n",
              "       'reviews_per_month', 'location_id', 'bed_type_id', 'property_type_id',\n",
              "       'room_type_id', 'cancellation_policy_id', 'index'],\n",
              "      dtype='object')"
            ]
          },
          "execution_count": 124,
          "metadata": {},
          "output_type": "execute_result"
        }
      ],
      "source": [
        "listings.columns"
      ]
    },
    {
      "cell_type": "code",
      "execution_count": null,
      "metadata": {
        "id": "0ZwpJ8iuH3t1",
        "outputId": "ec92115a-8cca-436e-801e-fe6ca19477ed"
      },
      "outputs": [
        {
          "data": {
            "text/plain": [
              "array([\"Make your self at home in this charming one-bedroom apartment, centrally-located on the west side of Queen Anne hill.   This elegantly-decorated, completely private apartment (bottom unit of a duplex) has an open floor plan, bamboo floors, a fully equipped kitchen, a TV,  DVD player, basic cable, and a very cozy bedroom with a queen-size bed. The unit sleeps up to four (two in the bedroom and two on the very comfortable fold out couch, linens included) and includes free WiFi and laundry. The apartment opens onto a private deck, complete with it's own BBQ, overlooking a garden and a forest of black bamboo.    The Apartment is perfectly-located just one block from the bus lines where you can catch a bus and be downtown Seattle in fifteen minutes or historic Ballard in ten or a quick five-minute walk will bring you to Whole Foods and Peet's Coffee or take a fifteen minute walk to the top of Queen Anne Hill where you will find a variety of eclectic shops, bars, and restaurants. There is no\",\n",
              "       \"Chemically sensitive? We've removed the irritants triggering allergy or asthma attacks, like carpeting, forced air & used pillows, all culprits that harbor fungus, mold & bacteria.  No smoking, no pets.  Designed for healthy living, so breathe easy. Beautiful, hypoallergenic apartment in an extremely safe, quiet and pedestrian-friendly section of Queen Anne.  A leafy-green location that puts the best of Seattle at your doorstep. Free WiFi, free parking, ...even free pillows!  What's special about this place? Hypo-allergenic bedding, mattresses/covers and new pillows with each rental. (So feel free to take your new pillows with you!)  A beautiful restoration mixing period details & modern sensibilities: Hardwood floors throughout, white subway tile, low/no VOCs & non-toxic paints keep this home-away-from-home clean, smart and healthy. Radiant heat and oil radiators mean no blowing hot air or dust.  Great Amenities: Free WiFi & internet TV (LED flatscreen). Fully-equipped kitchen with st\",\n",
              "       'New modern house built in 2013.  Spectacular sunset/water views and light, rooftop deck and lounge area, hot tub, 5 bedrooms, gourmet kitchen.  Perfect for 2-3 families, walk to downtown.  Located in highly desirable Queen Anne neighborhood. Our house is modern, light and fresh with a warm simple palette accented with barnwood, steel and concrete.  Open living spaces for entertaining, gourmet kitchen, deck off the kitchen, reading nook, half bath and smaller tv room off kitchen.  Fireplace with sofa and sitting area. Basement room is great for kids...this room has patio access and a garage door that opens into the space with basketball hoop right outside.  A queen bedroom and full bath are in the basement with concrete heated floors.  A queen sleeper sofa is in the tv area in the basement.  This room has a door if privacy is needed.  Great for a second family with kids.  The 2nd floor has 4 bedrooms (one queen in master, one twin bedroom, another bedroom has twin bunk beds and the last',\n",
              "       ...,\n",
              "       'Very comfortable lower unit. Quiet, charming mid-century neighborhood with amazing views of Lake Washington. Easy access to Seatac airport, downtown or Bellevue.',\n",
              "       'Cozy studio condo in the heart on Madison Park on Lake WA! Just steps away from shopping, restaurants, and minutes away from downtown Seattle. Come relax on the balcony and enjoy the stunning views of Lake WA along with the convenience of tons of amenities just steps away! Fully furnished unit to accommodate most needs. We have made every effort to make sure your stay is comfortable as can be.  Absolutely no smoking and no pets.  Space Features: Complimentary wireless internet. Cable w/Xbox one blue ray player. Modern bathroom with spa like shower. Fully equipped kitchen w/toaster, microwave, stove oven, fridge, kurig coffee maker. Pots, pans, silverware, cups, glasses, dishes, prep tools, wine and can opener. Cleaning supplies, sponge.  Balcony with table and chairs overlooking Lake WA.  On main level of entrance . Eating bar space. Hotel like queen size bed with comfortable linens. Own parking space.  Tall dresser Closet Lock box located on the railing to the right of the building. C',\n",
              "       'All hardwood floors, fireplace, 65\" TV with Xbox One, elevator opens to the apartment (takes a key). A porch with a charcoal grill, king size bed, parking. 10 minutes walking from Fremont, 10 minutes walking from Queen Anne. While we are away, our family will be around to help. Also our puppy will be boarded away.'],\n",
              "      dtype=object)"
            ]
          },
          "execution_count": 125,
          "metadata": {},
          "output_type": "execute_result"
        }
      ],
      "source": [
        "listings.description.unique()"
      ]
    },
    {
      "cell_type": "code",
      "execution_count": null,
      "metadata": {
        "id": "n8r9ahPxH3t1",
        "outputId": "cb59f7f3-01f3-4371-92b2-e382a31ca732"
      },
      "outputs": [
        {
          "data": {
            "text/plain": [
              "array([\"Make your self at home in this charming one-bedroom apartment, centrally-located on the west side of Queen Anne hill.   This elegantly-decorated, completely private apartment (bottom unit of a duplex) has an open floor plan, bamboo floors, a fully equipped kitchen, a TV,  DVD player, basic cable, and a very cozy bedroom with a queen-size bed. The unit sleeps up to four (two in the bedroom and two on the very comfortable fold out couch, linens included) and includes free WiFi and laundry. The apartment opens onto a private deck, complete with it's own BBQ, overlooking a garden and a forest of black bamboo.    The Apartment is perfectly-located just one block from the bus lines where you can catch a bus and be downtown Seattle in fifteen minutes or historic Ballard in ten or a quick five-minute walk will bring you to Whole Foods and Peet's Coffee or take a fifteen minute walk to the top of Queen Anne Hill where you will find a variety of eclectic shops, bars, and restaurants. There is no\",\n",
              "       \"Beautiful, hypoallergenic apartment in an extremely safe, quiet and pedestrian-friendly section of Queen Anne.  A leafy-green location that puts the best of Seattle at your doorstep. Free WiFi, free parking, ...even free pillows!  What's special about this place? Hypo-allergenic bedding, mattresses/covers and new pillows with each rental. (So feel free to take your new pillows with you!)  A beautiful restoration mixing period details & modern sensibilities: Hardwood floors throughout, white subway tile, low/no VOCs & non-toxic paints keep this home-away-from-home clean, smart and healthy. Radiant heat and oil radiators mean no blowing hot air or dust.  Great Amenities: Free WiFi & internet TV (LED flatscreen). Fully-equipped kitchen with stainless-steel appliances, sink & disposal. Large washer & dryer.  Iron/ironing board. Hairdryer. Plenty of storage. Convenient parking, both on- and off-street. The Best Location: Enjoy Seattle's celebrated Macrina bakery, neighborhood cafes, boutiqu\",\n",
              "       'Our house is modern, light and fresh with a warm simple palette accented with barnwood, steel and concrete.  Open living spaces for entertaining, gourmet kitchen, deck off the kitchen, reading nook, half bath and smaller tv room off kitchen.  Fireplace with sofa and sitting area. Basement room is great for kids...this room has patio access and a garage door that opens into the space with basketball hoop right outside.  A queen bedroom and full bath are in the basement with concrete heated floors.  A queen sleeper sofa is in the tv area in the basement.  This room has a door if privacy is needed.  Great for a second family with kids.  The 2nd floor has 4 bedrooms (one queen in master, one twin bedroom, another bedroom has twin bunk beds and the last bedroom has a queen bed. Their are 2 full baths, both with double sinks on this floor(one in the master).  The 3rd floor is a very large deck, hot tub, kitchen prep area with fridge, lounge space for movies and 3/4 bath (rain head shower).  ',\n",
              "       ...,\n",
              "       \"Our 3BR/2BA house bright, stylish, and wheelchair accessible. With breathtaking views of Salmon Bay and the Olympic Mountains beyond, it's the perfect perch for your Seattle visit. Great dining, shopping, and attractions are just steps away!  INSIDE THE HOUSE The main living and dining space, furnished in attractive Danish Modern style, enjoys a panoramic view of Salmon Bay and the Olympic Mountains. Relax over coffee in the living room, with a decorative original mid-century fireplace. Fantastic views continue into the dining room, which accommodates up to 8.  As for cooking, you'll find everything you need in the fully equipped kitchen, complete with stainless steel appliances, lots of counter space, and a kitchen bar that seats 2. Venture downstairs for the entertainment area, complete 50 inch flat screen Smart TV, DVD player, and cable, plus a cozy reading corner. Our house sleeps 6 guests between 3 sunlit bedrooms. You'll find queen-sized beds in the master and 3rd bedroom. The 2n\",\n",
              "       \"This space has a great view of Portage Bay with all of its marine activity.  Located just 5 minutes from the University of Washington, and just 10 minutes to the Amazon campus and downtown Seattle.  The Burke Gillman trail is  very close, and it's a 20 minute walk to Husky Stadium.\",\n",
              "       'Fully furnished unit to accommodate most needs. We have made every effort to make sure your stay is comfortable as can be.  Absolutely no smoking and no pets.  Space Features: Complimentary wireless internet. Cable w/Xbox one blue ray player. Modern bathroom with spa like shower. Fully equipped kitchen w/toaster, microwave, stove oven, fridge, kurig coffee maker. Pots, pans, silverware, cups, glasses, dishes, prep tools, wine and can opener. Cleaning supplies, sponge.  Balcony with table and chairs overlooking Lake WA.  On main level of entrance . Eating bar space. Hotel like queen size bed with comfortable linens. Own parking space.  Tall dresser Closet'],\n",
              "      dtype=object)"
            ]
          },
          "execution_count": 126,
          "metadata": {},
          "output_type": "execute_result"
        }
      ],
      "source": [
        "listings.space.unique()"
      ]
    },
    {
      "cell_type": "code",
      "execution_count": null,
      "metadata": {
        "id": "S1SqatdkH3t1",
        "outputId": "f864f882-932b-4e5d-82d7-62682fcd59c1"
      },
      "outputs": [
        {
          "data": {
            "text/plain": [
              "array(['{TV,\"Cable TV\",Internet,\"Wireless Internet\",\"Air Conditioning\",Kitchen,Heating,\"Family/Kid Friendly\",Washer,Dryer}',\n",
              "       '{TV,Internet,\"Wireless Internet\",Kitchen,\"Free Parking on Premises\",\"Buzzer/Wireless Intercom\",Heating,\"Family/Kid Friendly\",Washer,Dryer,\"Smoke Detector\",\"Carbon Monoxide Detector\",\"First Aid Kit\",\"Safety Card\",\"Fire Extinguisher\",Essentials}',\n",
              "       '{TV,\"Cable TV\",Internet,\"Wireless Internet\",\"Air Conditioning\",Kitchen,\"Free Parking on Premises\",\"Pets Allowed\",\"Pets live on this property\",Dog(s),Cat(s),\"Hot Tub\",\"Indoor Fireplace\",Heating,\"Family/Kid Friendly\",Washer,Dryer,\"Smoke Detector\",\"Carbon Monoxide Detector\",Essentials,Shampoo}',\n",
              "       ...,\n",
              "       '{\"Cable TV\",\"Wireless Internet\",Kitchen,\"Free Parking on Premises\",Breakfast,\"Pets live on this property\",Dog(s),Cat(s),Heating,Washer,Dryer,\"Smoke Detector\",\"First Aid Kit\",\"Safety Card\",\"Fire Extinguisher\",Essentials,Hangers,\"Hair Dryer\",Iron,\"Laptop Friendly Workspace\"}',\n",
              "       '{TV,\"Wireless Internet\",Kitchen,\"Free Parking on Premises\",\"Elevator in Building\",Heating,\"Smoke Detector\",Essentials,Hangers,\"Hair Dryer\",\"Laptop Friendly Workspace\"}',\n",
              "       '{TV,\"Cable TV\",Internet,\"Wireless Internet\",Kitchen,\"Free Parking on Premises\",\"Pets live on this property\",Dog(s),\"Elevator in Building\",\"Hot Tub\",\"Indoor Fireplace\",\"Buzzer/Wireless Intercom\",Heating,\"Family/Kid Friendly\",Washer,Dryer,\"Smoke Detector\",Essentials,Shampoo,Hangers,Iron,\"Laptop Friendly Workspace\"}'],\n",
              "      dtype=object)"
            ]
          },
          "execution_count": 127,
          "metadata": {},
          "output_type": "execute_result"
        }
      ],
      "source": [
        "listings.amenities.unique()"
      ]
    },
    {
      "cell_type": "markdown",
      "metadata": {
        "id": "d_F7buEAH3t2"
      },
      "source": [
        "## Excel Review"
      ]
    },
    {
      "cell_type": "code",
      "execution_count": null,
      "metadata": {
        "id": "cSHTlynnH3t2"
      },
      "outputs": [],
      "source": [
        "reviews = pd.read_csv('reviews.csv')"
      ]
    },
    {
      "cell_type": "code",
      "execution_count": null,
      "metadata": {
        "id": "C5VPkT2uH3t2",
        "outputId": "1312d125-1f07-4dd5-ba30-bf7e5c19c3df"
      },
      "outputs": [
        {
          "data": {
            "text/html": [
              "<div>\n",
              "<style scoped>\n",
              "    .dataframe tbody tr th:only-of-type {\n",
              "        vertical-align: middle;\n",
              "    }\n",
              "\n",
              "    .dataframe tbody tr th {\n",
              "        vertical-align: top;\n",
              "    }\n",
              "\n",
              "    .dataframe thead th {\n",
              "        text-align: right;\n",
              "    }\n",
              "</style>\n",
              "<table border=\"1\" class=\"dataframe\">\n",
              "  <thead>\n",
              "    <tr style=\"text-align: right;\">\n",
              "      <th></th>\n",
              "      <th>listing_id</th>\n",
              "      <th>id</th>\n",
              "      <th>date</th>\n",
              "      <th>reviewer_id</th>\n",
              "      <th>reviewer_name</th>\n",
              "      <th>comments</th>\n",
              "    </tr>\n",
              "  </thead>\n",
              "  <tbody>\n",
              "    <tr>\n",
              "      <th>0</th>\n",
              "      <td>7202016</td>\n",
              "      <td>38917982</td>\n",
              "      <td>2015-07-19</td>\n",
              "      <td>28943674</td>\n",
              "      <td>Bianca</td>\n",
              "      <td>Cute and cozy place. Perfect location to every...</td>\n",
              "    </tr>\n",
              "    <tr>\n",
              "      <th>1</th>\n",
              "      <td>7202016</td>\n",
              "      <td>39087409</td>\n",
              "      <td>2015-07-20</td>\n",
              "      <td>32440555</td>\n",
              "      <td>Frank</td>\n",
              "      <td>Kelly has a great room in a very central locat...</td>\n",
              "    </tr>\n",
              "  </tbody>\n",
              "</table>\n",
              "</div>"
            ],
            "text/plain": [
              "   listing_id        id        date  reviewer_id reviewer_name  \\\n",
              "0     7202016  38917982  2015-07-19     28943674        Bianca   \n",
              "1     7202016  39087409  2015-07-20     32440555         Frank   \n",
              "\n",
              "                                            comments  \n",
              "0  Cute and cozy place. Perfect location to every...  \n",
              "1  Kelly has a great room in a very central locat...  "
            ]
          },
          "execution_count": 129,
          "metadata": {},
          "output_type": "execute_result"
        }
      ],
      "source": [
        "reviews.head(2)"
      ]
    },
    {
      "cell_type": "code",
      "execution_count": null,
      "metadata": {
        "id": "hBbRNLPuH3t2"
      },
      "outputs": [],
      "source": [
        "reviewer = reviews[['reviewer_id','reviewer_name']]"
      ]
    },
    {
      "cell_type": "code",
      "execution_count": null,
      "metadata": {
        "id": "rigrznx_H3t2",
        "outputId": "19097014-8d75-47b1-a00e-b7c6ecd6d12d"
      },
      "outputs": [
        {
          "data": {
            "text/plain": [
              "75730"
            ]
          },
          "execution_count": 131,
          "metadata": {},
          "output_type": "execute_result"
        }
      ],
      "source": [
        "len(reviewer.reviewer_id.unique())"
      ]
    },
    {
      "cell_type": "code",
      "execution_count": null,
      "metadata": {
        "id": "6ouW8exoH3t2",
        "outputId": "a4e867d7-51fe-4561-83da-845c83b8a739"
      },
      "outputs": [
        {
          "data": {
            "text/plain": [
              "(84849, 2)"
            ]
          },
          "execution_count": 132,
          "metadata": {},
          "output_type": "execute_result"
        }
      ],
      "source": [
        "reviewer.shape"
      ]
    },
    {
      "cell_type": "code",
      "execution_count": null,
      "metadata": {
        "id": "SlYi2VPBH3t3",
        "outputId": "e4977618-b9e7-45fd-8a8d-416e6f209658"
      },
      "outputs": [
        {
          "name": "stderr",
          "output_type": "stream",
          "text": [
            "C:\\Users\\16314\\Anaconda3\\lib\\site-packages\\ipykernel_launcher.py:1: SettingWithCopyWarning: \n",
            "A value is trying to be set on a copy of a slice from a DataFrame\n",
            "\n",
            "See the caveats in the documentation: https://pandas.pydata.org/pandas-docs/stable/user_guide/indexing.html#returning-a-view-versus-a-copy\n",
            "  \"\"\"Entry point for launching an IPython kernel.\n"
          ]
        }
      ],
      "source": [
        "reviewer.drop_duplicates(inplace=True)"
      ]
    },
    {
      "cell_type": "code",
      "execution_count": null,
      "metadata": {
        "id": "Fd4L58QGH3t3"
      },
      "outputs": [],
      "source": [
        "reviews.drop('reviewer_name',1,inplace=True)"
      ]
    },
    {
      "cell_type": "code",
      "execution_count": null,
      "metadata": {
        "id": "qPj9IeOkH3t3",
        "outputId": "b71bb52e-b5de-4bbb-c299-c0d1f4f207c6"
      },
      "outputs": [
        {
          "data": {
            "text/html": [
              "<div>\n",
              "<style scoped>\n",
              "    .dataframe tbody tr th:only-of-type {\n",
              "        vertical-align: middle;\n",
              "    }\n",
              "\n",
              "    .dataframe tbody tr th {\n",
              "        vertical-align: top;\n",
              "    }\n",
              "\n",
              "    .dataframe thead th {\n",
              "        text-align: right;\n",
              "    }\n",
              "</style>\n",
              "<table border=\"1\" class=\"dataframe\">\n",
              "  <thead>\n",
              "    <tr style=\"text-align: right;\">\n",
              "      <th></th>\n",
              "      <th>listing_id</th>\n",
              "      <th>id</th>\n",
              "      <th>date</th>\n",
              "      <th>reviewer_id</th>\n",
              "      <th>comments</th>\n",
              "    </tr>\n",
              "  </thead>\n",
              "  <tbody>\n",
              "    <tr>\n",
              "      <th>0</th>\n",
              "      <td>7202016</td>\n",
              "      <td>38917982</td>\n",
              "      <td>2015-07-19</td>\n",
              "      <td>28943674</td>\n",
              "      <td>Cute and cozy place. Perfect location to every...</td>\n",
              "    </tr>\n",
              "    <tr>\n",
              "      <th>1</th>\n",
              "      <td>7202016</td>\n",
              "      <td>39087409</td>\n",
              "      <td>2015-07-20</td>\n",
              "      <td>32440555</td>\n",
              "      <td>Kelly has a great room in a very central locat...</td>\n",
              "    </tr>\n",
              "    <tr>\n",
              "      <th>2</th>\n",
              "      <td>7202016</td>\n",
              "      <td>39820030</td>\n",
              "      <td>2015-07-26</td>\n",
              "      <td>37722850</td>\n",
              "      <td>Very spacious apartment, and in a great neighb...</td>\n",
              "    </tr>\n",
              "    <tr>\n",
              "      <th>3</th>\n",
              "      <td>7202016</td>\n",
              "      <td>40813543</td>\n",
              "      <td>2015-08-02</td>\n",
              "      <td>33671805</td>\n",
              "      <td>Close to Seattle Center and all it has to offe...</td>\n",
              "    </tr>\n",
              "    <tr>\n",
              "      <th>4</th>\n",
              "      <td>7202016</td>\n",
              "      <td>41986501</td>\n",
              "      <td>2015-08-10</td>\n",
              "      <td>34959538</td>\n",
              "      <td>Kelly was a great host and very accommodating ...</td>\n",
              "    </tr>\n",
              "    <tr>\n",
              "      <th>5</th>\n",
              "      <td>7202016</td>\n",
              "      <td>43979139</td>\n",
              "      <td>2015-08-23</td>\n",
              "      <td>1154501</td>\n",
              "      <td>Kelly was great, place was great, just what I ...</td>\n",
              "    </tr>\n",
              "    <tr>\n",
              "      <th>6</th>\n",
              "      <td>7202016</td>\n",
              "      <td>45265631</td>\n",
              "      <td>2015-09-01</td>\n",
              "      <td>37853266</td>\n",
              "      <td>Kelly was great! Very nice and the neighborhoo...</td>\n",
              "    </tr>\n",
              "    <tr>\n",
              "      <th>7</th>\n",
              "      <td>7202016</td>\n",
              "      <td>46749120</td>\n",
              "      <td>2015-09-13</td>\n",
              "      <td>24445447</td>\n",
              "      <td>hola all bnb erz - Just left Seattle where I h...</td>\n",
              "    </tr>\n",
              "    <tr>\n",
              "      <th>8</th>\n",
              "      <td>7202016</td>\n",
              "      <td>47783346</td>\n",
              "      <td>2015-09-21</td>\n",
              "      <td>249583</td>\n",
              "      <td>Kelly's place is conveniently located on a qui...</td>\n",
              "    </tr>\n",
              "    <tr>\n",
              "      <th>9</th>\n",
              "      <td>7202016</td>\n",
              "      <td>48388999</td>\n",
              "      <td>2015-09-26</td>\n",
              "      <td>38110731</td>\n",
              "      <td>The place was really nice, clean, and the most...</td>\n",
              "    </tr>\n",
              "  </tbody>\n",
              "</table>\n",
              "</div>"
            ],
            "text/plain": [
              "   listing_id        id        date  reviewer_id  \\\n",
              "0     7202016  38917982  2015-07-19     28943674   \n",
              "1     7202016  39087409  2015-07-20     32440555   \n",
              "2     7202016  39820030  2015-07-26     37722850   \n",
              "3     7202016  40813543  2015-08-02     33671805   \n",
              "4     7202016  41986501  2015-08-10     34959538   \n",
              "5     7202016  43979139  2015-08-23      1154501   \n",
              "6     7202016  45265631  2015-09-01     37853266   \n",
              "7     7202016  46749120  2015-09-13     24445447   \n",
              "8     7202016  47783346  2015-09-21       249583   \n",
              "9     7202016  48388999  2015-09-26     38110731   \n",
              "\n",
              "                                            comments  \n",
              "0  Cute and cozy place. Perfect location to every...  \n",
              "1  Kelly has a great room in a very central locat...  \n",
              "2  Very spacious apartment, and in a great neighb...  \n",
              "3  Close to Seattle Center and all it has to offe...  \n",
              "4  Kelly was a great host and very accommodating ...  \n",
              "5  Kelly was great, place was great, just what I ...  \n",
              "6  Kelly was great! Very nice and the neighborhoo...  \n",
              "7  hola all bnb erz - Just left Seattle where I h...  \n",
              "8  Kelly's place is conveniently located on a qui...  \n",
              "9  The place was really nice, clean, and the most...  "
            ]
          },
          "execution_count": 135,
          "metadata": {},
          "output_type": "execute_result"
        }
      ],
      "source": [
        "reviews.head(10)"
      ]
    },
    {
      "cell_type": "markdown",
      "metadata": {
        "id": "RUGKtx31H3t3"
      },
      "source": [
        "## Calendar Excel"
      ]
    },
    {
      "cell_type": "code",
      "execution_count": null,
      "metadata": {
        "id": "jDaZLeKBH3t3"
      },
      "outputs": [],
      "source": [
        "calendar = pd.read_csv('calendar.csv')"
      ]
    },
    {
      "cell_type": "code",
      "execution_count": null,
      "metadata": {
        "id": "xQ9dwsfEH3t3",
        "outputId": "e5822922-fbb9-427a-9d83-f2a73c4360ec"
      },
      "outputs": [
        {
          "data": {
            "text/html": [
              "<div>\n",
              "<style scoped>\n",
              "    .dataframe tbody tr th:only-of-type {\n",
              "        vertical-align: middle;\n",
              "    }\n",
              "\n",
              "    .dataframe tbody tr th {\n",
              "        vertical-align: top;\n",
              "    }\n",
              "\n",
              "    .dataframe thead th {\n",
              "        text-align: right;\n",
              "    }\n",
              "</style>\n",
              "<table border=\"1\" class=\"dataframe\">\n",
              "  <thead>\n",
              "    <tr style=\"text-align: right;\">\n",
              "      <th></th>\n",
              "      <th>listing_id</th>\n",
              "      <th>date</th>\n",
              "      <th>available</th>\n",
              "      <th>price</th>\n",
              "    </tr>\n",
              "  </thead>\n",
              "  <tbody>\n",
              "    <tr>\n",
              "      <th>0</th>\n",
              "      <td>241032</td>\n",
              "      <td>2016-01-04</td>\n",
              "      <td>t</td>\n",
              "      <td>$85.00</td>\n",
              "    </tr>\n",
              "    <tr>\n",
              "      <th>1</th>\n",
              "      <td>241032</td>\n",
              "      <td>2016-01-05</td>\n",
              "      <td>t</td>\n",
              "      <td>$85.00</td>\n",
              "    </tr>\n",
              "    <tr>\n",
              "      <th>2</th>\n",
              "      <td>241032</td>\n",
              "      <td>2016-01-06</td>\n",
              "      <td>f</td>\n",
              "      <td>NaN</td>\n",
              "    </tr>\n",
              "    <tr>\n",
              "      <th>3</th>\n",
              "      <td>241032</td>\n",
              "      <td>2016-01-07</td>\n",
              "      <td>f</td>\n",
              "      <td>NaN</td>\n",
              "    </tr>\n",
              "    <tr>\n",
              "      <th>4</th>\n",
              "      <td>241032</td>\n",
              "      <td>2016-01-08</td>\n",
              "      <td>f</td>\n",
              "      <td>NaN</td>\n",
              "    </tr>\n",
              "    <tr>\n",
              "      <th>5</th>\n",
              "      <td>241032</td>\n",
              "      <td>2016-01-09</td>\n",
              "      <td>f</td>\n",
              "      <td>NaN</td>\n",
              "    </tr>\n",
              "    <tr>\n",
              "      <th>6</th>\n",
              "      <td>241032</td>\n",
              "      <td>2016-01-10</td>\n",
              "      <td>f</td>\n",
              "      <td>NaN</td>\n",
              "    </tr>\n",
              "    <tr>\n",
              "      <th>7</th>\n",
              "      <td>241032</td>\n",
              "      <td>2016-01-11</td>\n",
              "      <td>f</td>\n",
              "      <td>NaN</td>\n",
              "    </tr>\n",
              "    <tr>\n",
              "      <th>8</th>\n",
              "      <td>241032</td>\n",
              "      <td>2016-01-12</td>\n",
              "      <td>f</td>\n",
              "      <td>NaN</td>\n",
              "    </tr>\n",
              "    <tr>\n",
              "      <th>9</th>\n",
              "      <td>241032</td>\n",
              "      <td>2016-01-13</td>\n",
              "      <td>t</td>\n",
              "      <td>$85.00</td>\n",
              "    </tr>\n",
              "  </tbody>\n",
              "</table>\n",
              "</div>"
            ],
            "text/plain": [
              "   listing_id        date available   price\n",
              "0      241032  2016-01-04         t  $85.00\n",
              "1      241032  2016-01-05         t  $85.00\n",
              "2      241032  2016-01-06         f     NaN\n",
              "3      241032  2016-01-07         f     NaN\n",
              "4      241032  2016-01-08         f     NaN\n",
              "5      241032  2016-01-09         f     NaN\n",
              "6      241032  2016-01-10         f     NaN\n",
              "7      241032  2016-01-11         f     NaN\n",
              "8      241032  2016-01-12         f     NaN\n",
              "9      241032  2016-01-13         t  $85.00"
            ]
          },
          "execution_count": 137,
          "metadata": {},
          "output_type": "execute_result"
        }
      ],
      "source": [
        "calendar.head(10)"
      ]
    },
    {
      "cell_type": "code",
      "execution_count": null,
      "metadata": {
        "id": "YP3T2uQzH3t4",
        "outputId": "8be47c8c-99a0-45c5-9e27-843a595f0d9e"
      },
      "outputs": [
        {
          "data": {
            "text/plain": [
              "(1393570, 4)"
            ]
          },
          "execution_count": 138,
          "metadata": {},
          "output_type": "execute_result"
        }
      ],
      "source": [
        "calendar.shape"
      ]
    },
    {
      "cell_type": "markdown",
      "metadata": {
        "id": "IazLdFDCH3t4"
      },
      "source": [
        "# Importing All to CSV"
      ]
    },
    {
      "cell_type": "code",
      "execution_count": null,
      "metadata": {
        "id": "sNKZ4vyMH3t4"
      },
      "outputs": [],
      "source": [
        "listings.to_csv(r'C:\\Users\\16314\\OneDrive - The University of Texas at Dallas\\BUAN 6320\\phase1.2\\listings.csv')\n",
        "review_scores.to_csv(r'C:\\Users\\16314\\OneDrive - The University of Texas at Dallas\\BUAN 6320\\phase1.2\\review_scores.csv')\n",
        "reviewer.to_csv(r'C:\\Users\\16314\\OneDrive - The University of Texas at Dallas\\BUAN 6320\\phase1.2\\reviewer.csv')\n",
        "reviews.to_csv(r'C:\\Users\\16314\\OneDrive - The University of Texas at Dallas\\BUAN 6320\\phase1.2\\reviews.csv')\n",
        "cancellation_policy.to_csv(r'C:\\Users\\16314\\OneDrive - The University of Texas at Dallas\\BUAN 6320\\phase1.2\\cancellation_policy.csv')\n",
        "room_type.to_csv(r'C:\\Users\\16314\\OneDrive - The University of Texas at Dallas\\BUAN 6320\\phase1.2\\room_type.csv')\n",
        "property_type.to_csv(r'C:\\Users\\16314\\OneDrive - The University of Texas at Dallas\\BUAN 6320\\phase1.2\\property_type.csv')\n",
        "bed_types.to_csv(r'C:\\Users\\16314\\OneDrive - The University of Texas at Dallas\\BUAN 6320\\phase1.2\\bed_types.csv')\n",
        "country.to_csv(r'C:\\Users\\16314\\OneDrive - The University of Texas at Dallas\\BUAN 6320\\phase1.2\\country.csv')\n",
        "neighbourhood.to_csv(r'C:\\Users\\16314\\OneDrive - The University of Texas at Dallas\\BUAN 6320\\phase1.2\\neighbourhood.csv')\n",
        "host.to_csv(r'C:\\Users\\16314\\OneDrive - The University of Texas at Dallas\\BUAN 6320\\phase1.2\\host.csv')\n",
        "availablity.to_csv(r'C:\\Users\\16314\\OneDrive - The University of Texas at Dallas\\BUAN 6320\\phase1.2\\availablity.csv')\n",
        "accomodations.to_csv(r'C:\\Users\\16314\\OneDrive - The University of Texas at Dallas\\BUAN 6320\\phase1.2\\accomodations.csv')\n",
        "cost.to_csv(r'C:\\Users\\16314\\OneDrive - The University of Texas at Dallas\\BUAN 6320\\phase1.2\\cost.csv')\n",
        "calendar.to_csv(r'C:\\Users\\16314\\OneDrive - The University of Texas at Dallas\\BUAN 6320\\phase1.2\\calendar2.csv')"
      ]
    },
    {
      "cell_type": "code",
      "execution_count": null,
      "metadata": {
        "id": "rGO7v7yGH3t4"
      },
      "outputs": [],
      "source": []
    }
  ],
  "metadata": {
    "kernelspec": {
      "display_name": "Python 3",
      "language": "python",
      "name": "python3"
    },
    "language_info": {
      "codemirror_mode": {
        "name": "ipython",
        "version": 3
      },
      "file_extension": ".py",
      "mimetype": "text/x-python",
      "name": "python",
      "nbconvert_exporter": "python",
      "pygments_lexer": "ipython3",
      "version": "3.7.6"
    },
    "colab": {
      "provenance": [],
      "collapsed_sections": [
        "PupZaicDH3tf",
        "E037WrVFH3th",
        "Y1OoF-uPH3tj",
        "6CHI4PYdH3tn",
        "FegvG-iMH3to",
        "t2PWDbFSH3tp",
        "RSgBgGe8H3tt",
        "aorHnAZ6H3tv",
        "WeQERMH5H3tx",
        "shIdbj2YH3tz",
        "t8SKXA-zH3t0",
        "T0ZAPI35H3t0",
        "d_F7buEAH3t2",
        "RUGKtx31H3t3"
      ],
      "include_colab_link": true
    }
  },
  "nbformat": 4,
  "nbformat_minor": 0
}